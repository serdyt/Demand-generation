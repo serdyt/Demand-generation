{
 "cells": [
  {
   "cell_type": "code",
   "execution_count": 1,
   "metadata": {},
   "outputs": [],
   "source": [
    "import json\n",
    "import requests\n",
    "import numpy as np\n",
    "from matplotlib import pyplot as plt\n",
    "import random"
   ]
  },
  {
   "cell_type": "code",
   "execution_count": 11,
   "metadata": {},
   "outputs": [],
   "source": [
    "pop_file = 'data/population_fake_od.json'"
   ]
  },
  {
   "cell_type": "code",
   "execution_count": 12,
   "metadata": {},
   "outputs": [],
   "source": [
    "with open(pop_file, 'r') as input_file:\n",
    "    raw_json = json.load(input_file)\n",
    "    all_persons = raw_json.get('persons')"
   ]
  },
  {
   "cell_type": "code",
   "execution_count": 13,
   "metadata": {},
   "outputs": [],
   "source": [
    "time_trips = []\n",
    "for person in all_persons:\n",
    "    time_trips.append(person.get('activities')[0]['end_time'])\n",
    "    time_trips.append(person.get('activities')[1]['end_time'])"
   ]
  },
  {
   "cell_type": "code",
   "execution_count": 14,
   "metadata": {},
   "outputs": [],
   "source": [
    "def get_sec(time_str):\n",
    "    \"\"\"Get Seconds from time.\"\"\"\n",
    "    h, m, s = time_str.split(':')\n",
    "    return int(h) * 3600 + int(m) * 60 + int(s)\n",
    "time_trips = [get_sec(t) for t in time_trips]"
   ]
  },
  {
   "cell_type": "code",
   "execution_count": 15,
   "metadata": {},
   "outputs": [
    {
     "data": {
      "text/plain": [
       "[Text(0, 0, '00:00'),\n",
       " Text(0, 0, '03:00'),\n",
       " Text(0, 0, '6:00'),\n",
       " Text(0, 0, '9:00'),\n",
       " Text(0, 0, '12:00'),\n",
       " Text(0, 0, '15:00'),\n",
       " Text(0, 0, '18:00'),\n",
       " Text(0, 0, '21:00'),\n",
       " Text(0, 0, '24:00')]"
      ]
     },
     "execution_count": 15,
     "metadata": {},
     "output_type": "execute_result"
    },
    {
     "data": {
      "image/png": "[encoded data removed]",
      "text/plain": [
       "<Figure size 432x288 with 1 Axes>"
      ]
     },
     "metadata": {
      "needs_background": "light"
     },
     "output_type": "display_data"
    }
   ],
   "source": [
    "fig = plt.figure()\n",
    "ax = fig.add_subplot(111)\n",
    "ax.hist(x=time_trips, bins=np.arange(0,86500,86400/24), color='blue', alpha=0.7, rwidth=0.85, density=False)\n",
    "#n, bins, patches = plt.hist(x=upsampled_wl['work_journey_start_time'], bins=np.arange(1,24,.5), color='grey',\n",
    "                           # alpha=0.7, rwidth=0.85, density=1) #, stacked=True, density=True\n",
    "plt.grid(axis='y', alpha=0.75)\n",
    "plt.xlabel('Start time of trips')\n",
    "plt.ylabel('Number of requests')\n",
    "# plt.xlabel('Start time of work trip')\n",
    "# plt.ylabel('Frequency')\n",
    "\n",
    "plt.xticks([x*3600 for x in [0, 3, 6, 9, 12, 15, 18, 21, 24]])\n",
    "names_x = ['00:00','03:00','6:00','9:00','12:00','15:00','18:00','21:00', '24:00']\n",
    "ax.set_xticklabels(names_x,rotation=45)\n",
    "\n",
    "\n",
    "# plt.yticks(np.arange(0, 0.45, 0.1))\n",
    "# plt.ylim(ymax=0.45, ymin=0)\n",
    "# plt.xticks(np.arange(0, 24, 3))\n",
    "# plt.xlim(xmax=24, xmin=0)\n",
    "\n",
    "#work_length_distribution = get_time_distr(upsampled_wl)\n",
    "#work_length_distribution"
   ]
  },
  {
   "cell_type": "code",
   "execution_count": null,
   "metadata": {},
   "outputs": [],
   "source": []
  },
  {
   "cell_type": "code",
   "execution_count": null,
   "metadata": {},
   "outputs": [],
   "source": []
  }
 ],
 "metadata": {
  "kernelspec": {
   "display_name": "Python 3",
   "language": "python",
   "name": "python3"
  },
  "language_info": {
   "codemirror_mode": {
    "name": "ipython",
    "version": 3
   },
   "file_extension": ".py",
   "mimetype": "text/x-python",
   "name": "python",
   "nbconvert_exporter": "python",
   "pygments_lexer": "ipython3",
   "version": "3.7.6"
  }
 },
 "nbformat": 4,
 "nbformat_minor": 2
}
