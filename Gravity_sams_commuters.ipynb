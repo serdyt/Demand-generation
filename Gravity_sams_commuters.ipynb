{
 "cells": [
  {
   "cell_type": "code",
   "execution_count": 1,
   "metadata": {},
   "outputs": [],
   "source": [
    "import pandas as pd\n",
    "import numpy as np\n",
    "from gravity_utils import *"
   ]
  },
  {
   "cell_type": "code",
   "execution_count": 70,
   "metadata": {},
   "outputs": [],
   "source": [
    "pd.set_option('display.max_rows', 1398)"
   ]
  },
  {
   "cell_type": "code",
   "execution_count": 2,
   "metadata": {},
   "outputs": [],
   "source": [
    "import shapefile\n",
    "import shapely.wkt"
   ]
  },
  {
   "cell_type": "code",
   "execution_count": 3,
   "metadata": {},
   "outputs": [],
   "source": [
    "import numpy as np\n",
    "from sklearn.linear_model import LinearRegression\n",
    "from sklearn.model_selection import KFold\n",
    "from sklearn import metrics\n",
    "import statsmodels.api as sm\n",
    "from scipy import stats\n",
    "import stat\n",
    "from sklearn.preprocessing import StandardScaler, Normalizer, RobustScaler, MinMaxScaler\n",
    "from sklearn.metrics import r2_score, log_loss\n",
    "import numpy as np\n",
    "import matplotlib.pyplot as plt\n",
    "import seaborn as sns\n",
    "from sklearn.neural_network import MLPRegressor"
   ]
  },
  {
   "cell_type": "code",
   "execution_count": 4,
   "metadata": {},
   "outputs": [],
   "source": [
    "a2 = read_shapefile('data/GIS/A2_samsSW_2012_shp/A2_sw_region.shp')\n",
    "a2['KOMMUN'] = a2.KOMMUN.astype(int)\n",
    "a2['SAMSCODE'] = a2.SAMSCODE.astype(int)\n",
    "night_pop = a2[(a2.KOMMUN > 1200) & (a2.KOMMUN < 1300)]\n",
    "target_night_pop = night_pop.loc[(night_pop.KOMMUN == 1265) | (night_pop.KOMMUN == 1270)]\n",
    "target_night_pop = target_night_pop.groupby(['SAMSCODE'])[['Totalt', 'Offentliga', 'Naringsliv']].sum()\n",
    "target_night_pop.columns=[u'TotaltA2', u'OffentligaA2', u'NaringslivA2']\n",
    "other_night_pop = night_pop.loc[(night_pop.KOMMUN != 1265) & (night_pop.KOMMUN != 1270)]\n",
    "other_night_pop = other_night_pop.groupby(['KOMMUN'])[['Totalt', 'Offentliga', 'Naringsliv']].sum()\n",
    "other_night_pop.columns=[u'TotaltA2', u'OffentligaA2', u'NaringslivA2']\n",
    "\n",
    "a4 = read_shapefile('data/GIS/A4_samsSW_2012_shp/A4_sw_region.shp')\n",
    "a4['KOMMUN'] = a4.KOMMUN.astype(int)\n",
    "a4['SAMSCODE'] = a4.SAMSCODE.astype(int)\n",
    "a4 = a4[(a4.KOMMUN > 1200) & (a4.KOMMUN < 1300)]\n",
    "target_day_pop = a4.loc[(a4.KOMMUN == 1265) | (a4.KOMMUN == 1270)]\n",
    "target_day_pop = target_day_pop.groupby(['SAMSCODE'])[['Totalt', 'Offentliga', 'Naringsliv']].sum()\n",
    "target_day_pop.columns=[u'TotaltA4', u'OffentligaA4', u'NaringslivA4']\n",
    "other_day_pop = a4.loc[(a4.KOMMUN != 1265) & (a4.KOMMUN != 1270)]\n",
    "other_day_pop = other_day_pop.groupby(['KOMMUN'])[['Totalt', 'Offentliga', 'Naringsliv']].sum()\n",
    "other_day_pop.columns=[u'TotaltA4', u'OffentligaA4', u'NaringslivA4']\n",
    "\n",
    "sams_w_nbuildings = pd.read_csv('data/GIS/B1_samsSW_20131231_shp/B1_sams_with_nbuildings.csv', sep=';', index_col=0)\n",
    "sams_w_nbuildings['SAMSCODE'] = sams_w_nbuildings.SAMSCODE.astype(int)\n",
    "sams_w_nbuildings['KOMMUN'] = sams_w_nbuildings.KOMMUN.astype(int)\n",
    "\n",
    "target_buildings = sams_w_nbuildings.loc[(sams_w_nbuildings.KOMMUN == 1265) | (sams_w_nbuildings.KOMMUN == 1270)]\n",
    "target_buildings = target_buildings.groupby(['SAMSCODE']).sum()\n",
    "other_buildings = sams_w_nbuildings.loc[(sams_w_nbuildings.KOMMUN != 1265) & (sams_w_nbuildings.KOMMUN != 1270)]\n",
    "other_buildings = other_buildings.groupby(['KOMMUN']).sum()\n",
    "\n",
    "#buildings = sams_w_nbuildings.groupby(['SAMSCODE'])['nProduction', 'nAttraction','TotBef', 'small_building', 'appt_build', 'multi_appartment_building'].sum()"
   ]
  },
  {
   "cell_type": "code",
   "execution_count": null,
   "metadata": {},
   "outputs": [],
   "source": []
  },
  {
   "cell_type": "code",
   "execution_count": 6,
   "metadata": {},
   "outputs": [],
   "source": [
    "resfil_raw = pd.read_csv('data/rvu/RVU_resfil.csv')\n",
    "upsampled_resfil = draw_population(resfil_raw, resfil_raw.individvikt.astype(int))\n",
    "upsampled_resfil = upsampled_resfil[(upsampled_resfil['ärende_2'] == 1)] \n",
    "#                                     (upsampled_resfil['rf4_komkod'] < 2000) &\n",
    "#                                     (upsampled_resfil['rf4_komkod'] > 100) &\n",
    "#                                     (upsampled_resfil['rf1_komkod'] < 2000) &\n",
    "#                                     (upsampled_resfil['rf1_komkod'] > 100)\n",
    "#                                    ]\n",
    "attraction_rvu = upsampled_resfil[(upsampled_resfil['rf4_komkod'] < 2000) &\n",
    "                                    (upsampled_resfil['rf4_komkod'] > 100)].groupby('rf4_komkod')['Id'].count()\n",
    "production_rvu = upsampled_resfil[(upsampled_resfil['rf1_komkod'] < 2000) &\n",
    "                                    (upsampled_resfil['rf1_komkod'] > 100)].groupby('rf1_komkod')['Id'].count()"
   ]
  },
  {
   "cell_type": "code",
   "execution_count": 7,
   "metadata": {},
   "outputs": [
    {
     "data": {
      "text/plain": [
       "[<matplotlib.lines.Line2D at 0x7fb686cb73d0>]"
      ]
     },
     "execution_count": 7,
     "metadata": {},
     "output_type": "execute_result"
    },
    {
     "data": {
      "image/png": "[encoded data removed]",
      "text/plain": [
       "<Figure size 432x288 with 1 Axes>"
      ]
     },
     "metadata": {
      "needs_background": "light"
     },
     "output_type": "display_data"
    }
   ],
   "source": [
    "plt.plot(pd.concat([production_rvu, other_night_pop.TotaltA2, production_rvu/other_night_pop.TotaltA2], axis=1).sort_values(['TotaltA2'])[0].values)"
   ]
  },
  {
   "cell_type": "code",
   "execution_count": 95,
   "metadata": {},
   "outputs": [],
   "source": [
    "production_raw_rvu = resfil_raw[(resfil_raw['ärende_2'] == 1) &\n",
    "                                (resfil_raw['rf1_komkod'] < 2000) &\n",
    "                                (resfil_raw['rf1_komkod'] > 100)].groupby('rf1_Samskod')['Id'].count()\n",
    "\n",
    "rvu_vs_scb = pd.DataFrame([production_raw_rvu, sams_w_nbuildings.set_index('SAMSCODE').TotBef, production_raw_rvu / sams_w_nbuildings.set_index('SAMSCODE').TotBef], \n",
    "             index=['rvu', 'sams', 'ratio']).T.sort_values(['ratio'], ascending=False)"
   ]
  },
  {
   "cell_type": "code",
   "execution_count": 96,
   "metadata": {},
   "outputs": [
    {
     "data": {
      "text/html": [
       "<div>\n",
       "<style scoped>\n",
       "    .dataframe tbody tr th:only-of-type {\n",
       "        vertical-align: middle;\n",
       "    }\n",
       "\n",
       "    .dataframe tbody tr th {\n",
       "        vertical-align: top;\n",
       "    }\n",
       "\n",
       "    .dataframe thead th {\n",
       "        text-align: right;\n",
       "    }\n",
       "</style>\n",
       "<table border=\"1\" class=\"dataframe\">\n",
       "  <thead>\n",
       "    <tr style=\"text-align: right;\">\n",
       "      <th></th>\n",
       "      <th>rvu</th>\n",
       "      <th>sams</th>\n",
       "      <th>ratio</th>\n",
       "    </tr>\n",
       "  </thead>\n",
       "  <tbody>\n",
       "    <tr>\n",
       "      <th>12810036.0</th>\n",
       "      <td>8.0</td>\n",
       "      <td>3.0</td>\n",
       "      <td>2.666667</td>\n",
       "    </tr>\n",
       "    <tr>\n",
       "      <th>12810083.0</th>\n",
       "      <td>33.0</td>\n",
       "      <td>563.0</td>\n",
       "      <td>0.058615</td>\n",
       "    </tr>\n",
       "    <tr>\n",
       "      <th>12620018.0</th>\n",
       "      <td>13.0</td>\n",
       "      <td>238.0</td>\n",
       "      <td>0.054622</td>\n",
       "    </tr>\n",
       "    <tr>\n",
       "      <th>12810019.0</th>\n",
       "      <td>31.0</td>\n",
       "      <td>582.0</td>\n",
       "      <td>0.053265</td>\n",
       "    </tr>\n",
       "    <tr>\n",
       "      <th>12840025.0</th>\n",
       "      <td>99.0</td>\n",
       "      <td>1872.0</td>\n",
       "      <td>0.052885</td>\n",
       "    </tr>\n",
       "    <tr>\n",
       "      <th>12840031.0</th>\n",
       "      <td>98.0</td>\n",
       "      <td>1926.0</td>\n",
       "      <td>0.050883</td>\n",
       "    </tr>\n",
       "    <tr>\n",
       "      <th>12620019.0</th>\n",
       "      <td>6.0</td>\n",
       "      <td>122.0</td>\n",
       "      <td>0.049180</td>\n",
       "    </tr>\n",
       "    <tr>\n",
       "      <th>12850030.0</th>\n",
       "      <td>18.0</td>\n",
       "      <td>384.0</td>\n",
       "      <td>0.046875</td>\n",
       "    </tr>\n",
       "    <tr>\n",
       "      <th>12620020.0</th>\n",
       "      <td>19.0</td>\n",
       "      <td>442.0</td>\n",
       "      <td>0.042986</td>\n",
       "    </tr>\n",
       "    <tr>\n",
       "      <th>12810109.0</th>\n",
       "      <td>6.0</td>\n",
       "      <td>142.0</td>\n",
       "      <td>0.042254</td>\n",
       "    </tr>\n",
       "    <tr>\n",
       "      <th>12810115.0</th>\n",
       "      <td>23.0</td>\n",
       "      <td>548.0</td>\n",
       "      <td>0.041971</td>\n",
       "    </tr>\n",
       "    <tr>\n",
       "      <th>12810063.0</th>\n",
       "      <td>23.0</td>\n",
       "      <td>566.0</td>\n",
       "      <td>0.040636</td>\n",
       "    </tr>\n",
       "    <tr>\n",
       "      <th>12800024.0</th>\n",
       "      <td>6.0</td>\n",
       "      <td>160.0</td>\n",
       "      <td>0.037500</td>\n",
       "    </tr>\n",
       "    <tr>\n",
       "      <th>12850037.0</th>\n",
       "      <td>14.0</td>\n",
       "      <td>376.0</td>\n",
       "      <td>0.037234</td>\n",
       "    </tr>\n",
       "    <tr>\n",
       "      <th>12810056.0</th>\n",
       "      <td>52.0</td>\n",
       "      <td>1482.0</td>\n",
       "      <td>0.035088</td>\n",
       "    </tr>\n",
       "    <tr>\n",
       "      <th>12800009.0</th>\n",
       "      <td>14.0</td>\n",
       "      <td>421.0</td>\n",
       "      <td>0.033254</td>\n",
       "    </tr>\n",
       "    <tr>\n",
       "      <th>12310008.0</th>\n",
       "      <td>9.0</td>\n",
       "      <td>299.0</td>\n",
       "      <td>0.030100</td>\n",
       "    </tr>\n",
       "  </tbody>\n",
       "</table>\n",
       "</div>"
      ],
      "text/plain": [
       "             rvu    sams     ratio\n",
       "12810036.0   8.0     3.0  2.666667\n",
       "12810083.0  33.0   563.0  0.058615\n",
       "12620018.0  13.0   238.0  0.054622\n",
       "12810019.0  31.0   582.0  0.053265\n",
       "12840025.0  99.0  1872.0  0.052885\n",
       "12840031.0  98.0  1926.0  0.050883\n",
       "12620019.0   6.0   122.0  0.049180\n",
       "12850030.0  18.0   384.0  0.046875\n",
       "12620020.0  19.0   442.0  0.042986\n",
       "12810109.0   6.0   142.0  0.042254\n",
       "12810115.0  23.0   548.0  0.041971\n",
       "12810063.0  23.0   566.0  0.040636\n",
       "12800024.0   6.0   160.0  0.037500\n",
       "12850037.0  14.0   376.0  0.037234\n",
       "12810056.0  52.0  1482.0  0.035088\n",
       "12800009.0  14.0   421.0  0.033254\n",
       "12310008.0   9.0   299.0  0.030100"
      ]
     },
     "execution_count": 96,
     "metadata": {},
     "output_type": "execute_result"
    }
   ],
   "source": [
    "sams_ids = rvu_vs_scb[(rvu_vs_scb['ratio'] < 10) & (rvu_vs_scb['ratio'] > 0.03) & (rvu_vs_scb['rvu'] > 5)]\n",
    "sams_index = sams_ids.index\n",
    "sams_ids"
   ]
  },
  {
   "cell_type": "code",
   "execution_count": null,
   "metadata": {},
   "outputs": [],
   "source": []
  },
  {
   "cell_type": "code",
   "execution_count": 101,
   "metadata": {},
   "outputs": [],
   "source": [
    "production_sams_rvu = upsampled_resfil[(upsampled_resfil['ärende_2'] == 1) &\n",
    "                                    (upsampled_resfil['rf1_komkod'] < 2000) &\n",
    "                                    (upsampled_resfil['rf1_komkod'] > 100)].groupby('rf1_Samskod')['Id'].count()\n",
    "production_kommun_rvu = upsampled_resfil[(upsampled_resfil['ärende_2'] == 1) &\n",
    "                                    (upsampled_resfil['rf1_komkod'] < 2000) &\n",
    "                                    (upsampled_resfil['rf1_komkod'] > 100)].groupby('rf1_komkod')['Id'].count()"
   ]
  },
  {
   "cell_type": "code",
   "execution_count": 102,
   "metadata": {
    "scrolled": true
   },
   "outputs": [
    {
     "name": "stderr",
     "output_type": "stream",
     "text": [
      "/home/ai6644/anaconda3/envs/jup/lib/python3.7/site-packages/ipykernel_launcher.py:4: FutureWarning: Sorting because non-concatenation axis is not aligned. A future version\n",
      "of pandas will change to not sort by default.\n",
      "\n",
      "To accept the future behavior, pass 'sort=False'.\n",
      "\n",
      "To retain the current behavior and silence the warning, pass 'sort=True'.\n",
      "\n",
      "  after removing the cwd from sys.path.\n"
     ]
    }
   ],
   "source": [
    "target_x_sams = pd.concat([target_night_pop, target_buildings, target_day_pop], axis=1)\n",
    "other_x_sams = pd.concat([other_night_pop, other_buildings, other_day_pop], axis=1)\n",
    "\n",
    "all_x_sams = pd.concat([target_x_sams, other_x_sams])\n",
    "\n",
    "# all_y_prod = pd.concat([target_night_pop, other_night_pop])\n",
    "# all_y_att = pd.concat([target_day_pop, other_day_pop])\n",
    "\n",
    "kommun_rvu_prod = production_kommun_rvu\n",
    "sams_rvu_prod = production_sams_rvu.loc[sams_index]"
   ]
  },
  {
   "cell_type": "markdown",
   "metadata": {},
   "source": [
    "# Production linear regression"
   ]
  },
  {
   "cell_type": "code",
   "execution_count": 103,
   "metadata": {},
   "outputs": [],
   "source": [
    "def print_stats (model, X, y):\n",
    "    lm = model\n",
    "    params = np.append(lm.intercept_,lm.coef_)\n",
    "    predictions = lm.predict(X)\n",
    "\n",
    "    # newX = pd.DataFrame({\"Constant\":np.ones(len(X))}, index = X.index).join(pd.DataFrame(X))\n",
    "    newX = pd.DataFrame({\"Constant\":np.ones(len(X))}).join(pd.DataFrame(X.reset_index(drop=True)))\n",
    "    MSE = (sum((y-predictions)**2))/(len(newX)-len(newX.columns))\n",
    "\n",
    "    # Note if you don't want to use a DataFrame replace the two lines above with\n",
    "    # newX = np.append(np.ones((len(X),1)), X, axis=1)\n",
    "    # MSE = (sum((y-predictions)**2))/(len(newX)-len(newX[0]))\n",
    "\n",
    "    var_b = MSE*(np.linalg.inv(np.dot(newX.T,newX)).diagonal())\n",
    "    sd_b = np.sqrt(var_b)\n",
    "    ts_b = params/ sd_b\n",
    "\n",
    "    p_values =[2*(1-stats.t.cdf(np.abs(i),(len(newX)-1))) for i in ts_b]\n",
    "\n",
    "    sd_b = np.round(sd_b,3)\n",
    "    ts_b = np.round(ts_b,3)\n",
    "    p_values = np.round(p_values,3)\n",
    "    params = np.round(params,4)\n",
    "\n",
    "    myDF3 = pd.DataFrame()\n",
    "    myDF3[\"Coefficients\"],myDF3[\"Standard Errors\"],myDF3[\"t values\"],myDF3[\"Probabilites\"] = [params,sd_b,ts_b,p_values]\n",
    "    myDF3.index = np.append(['intercept_'], X.columns.values)\n",
    "    print(myDF3)"
   ]
  },
  {
   "cell_type": "code",
   "execution_count": 287,
   "metadata": {},
   "outputs": [
    {
     "name": "stdout",
     "output_type": "stream",
     "text": [
      "R**2 value\n",
      "0.9883588023583453\n",
      "                Coefficients  Standard Errors  t values  Probabilites\n",
      "intercept_            0.0000          274.107     0.000         1.000\n",
      "Ald25_44              1.1646            0.220     5.293         0.000\n",
      "Ald45_64              0.3798            0.273     1.391         0.177\n",
      "small_building        0.2596            0.080     3.250         0.003\n"
     ]
    }
   ],
   "source": [
    "from sklearn.linear_model import Lasso\n",
    "lin = Lasso(alpha=0.001,precompute=True,max_iter=10000, fit_intercept=False,\n",
    "            positive=True, random_state=42, selection='random')\n",
    "\n",
    "x_prod = other_x_sams.drop(axis=1, labels=['Ald20_24','TotBef','Ald65_W','Ald7_15','multi_appartment_building','nEkonomi','nIndustri','nProduction','appt_build','nAttraction','Ald16_19','Ald0_6','SAMSCODE', 'TotaltA2', 'OffentligaA2', 'NaringslivA2', 'TotaltA4', 'OffentligaA4', 'NaringslivA4'])\n",
    "y_prod = other_night_pop.TotaltA2\n",
    "\n",
    "x_prod = x_prod.drop(labels=[1280,1281,1283,1290,1292, 1293])\n",
    "y_prod = y_prod.drop(labels=[1280,1281,1283,1290,1292, 1293])\n",
    "\n",
    "scaler_prod = StandardScaler(with_std=False, with_mean=False)\n",
    "# scaler_att = Normalizer()\n",
    "# scaler_att = MinMaxScaler()\n",
    "scaler_prod.fit(x_prod)\n",
    "\n",
    "X_prod = pd.DataFrame(scaler_prod.transform(x_prod), columns=x_prod.columns, index=x_prod.index)\n",
    "production_model = lin.fit(X_prod, y_prod)\n",
    "train_prod_pred = production_model.predict(X_prod)\n",
    "score = r2_score(y_prod, train_prod_pred)\n",
    "print('R**2 value')\n",
    "print(score)\n",
    "# print(pd.DataFrame(production_model.coef_, index=X_prod.columns))\n",
    "print_stats(production_model, X_prod, y_prod)"
   ]
  },
  {
   "cell_type": "code",
   "execution_count": 284,
   "metadata": {},
   "outputs": [
    {
     "name": "stdout",
     "output_type": "stream",
     "text": [
      "R**2 value\n",
      "0.9920067065005018\n"
     ]
    }
   ],
   "source": [
    "y_pred = production_model.predict(scaler.transform(target_x_sams.loc[:, X_prod.columns]))\n",
    "score = r2_score(y_pred, target_x_sams.TotaltA2)\n",
    "print('R**2 value')\n",
    "print(score)"
   ]
  },
  {
   "cell_type": "code",
   "execution_count": 270,
   "metadata": {
    "scrolled": false
   },
   "outputs": [
    {
     "data": {
      "text/html": [
       "<div>\n",
       "<style scoped>\n",
       "    .dataframe tbody tr th:only-of-type {\n",
       "        vertical-align: middle;\n",
       "    }\n",
       "\n",
       "    .dataframe tbody tr th {\n",
       "        vertical-align: top;\n",
       "    }\n",
       "\n",
       "    .dataframe thead th {\n",
       "        text-align: right;\n",
       "    }\n",
       "</style>\n",
       "<table border=\"1\" class=\"dataframe\">\n",
       "  <thead>\n",
       "    <tr style=\"text-align: right;\">\n",
       "      <th></th>\n",
       "      <th>pred_prod</th>\n",
       "      <th>TotaltA2</th>\n",
       "      <th>diff</th>\n",
       "    </tr>\n",
       "  </thead>\n",
       "  <tbody>\n",
       "    <tr>\n",
       "      <th>count</th>\n",
       "      <td>37.000000</td>\n",
       "      <td>37.000000</td>\n",
       "      <td>37.000000</td>\n",
       "    </tr>\n",
       "    <tr>\n",
       "      <th>mean</th>\n",
       "      <td>396.210475</td>\n",
       "      <td>403.513514</td>\n",
       "      <td>0.952838</td>\n",
       "    </tr>\n",
       "    <tr>\n",
       "      <th>std</th>\n",
       "      <td>345.446255</td>\n",
       "      <td>339.654287</td>\n",
       "      <td>0.108138</td>\n",
       "    </tr>\n",
       "    <tr>\n",
       "      <th>min</th>\n",
       "      <td>41.763258</td>\n",
       "      <td>58.000000</td>\n",
       "      <td>0.710756</td>\n",
       "    </tr>\n",
       "    <tr>\n",
       "      <th>25%</th>\n",
       "      <td>118.827660</td>\n",
       "      <td>128.000000</td>\n",
       "      <td>0.903572</td>\n",
       "    </tr>\n",
       "    <tr>\n",
       "      <th>50%</th>\n",
       "      <td>337.316234</td>\n",
       "      <td>349.000000</td>\n",
       "      <td>0.962559</td>\n",
       "    </tr>\n",
       "    <tr>\n",
       "      <th>75%</th>\n",
       "      <td>543.784053</td>\n",
       "      <td>528.000000</td>\n",
       "      <td>0.999499</td>\n",
       "    </tr>\n",
       "    <tr>\n",
       "      <th>max</th>\n",
       "      <td>1587.448720</td>\n",
       "      <td>1626.000000</td>\n",
       "      <td>1.267699</td>\n",
       "    </tr>\n",
       "  </tbody>\n",
       "</table>\n",
       "</div>"
      ],
      "text/plain": [
       "         pred_prod     TotaltA2       diff\n",
       "count    37.000000    37.000000  37.000000\n",
       "mean    396.210475   403.513514   0.952838\n",
       "std     345.446255   339.654287   0.108138\n",
       "min      41.763258    58.000000   0.710756\n",
       "25%     118.827660   128.000000   0.903572\n",
       "50%     337.316234   349.000000   0.962559\n",
       "75%     543.784053   528.000000   0.999499\n",
       "max    1587.448720  1626.000000   1.267699"
      ]
     },
     "execution_count": 270,
     "metadata": {},
     "output_type": "execute_result"
    }
   ],
   "source": [
    "pred_prod_sams = pd.DataFrame(y_pred, index=target_x_sams.index, columns=['pred_prod'])\n",
    "df = pd.concat([pred_prod_sams, target_night_pop.TotaltA2], axis=1)\n",
    "df['diff'] = df.pred_prod / df.TotaltA2\n",
    "df.describe()"
   ]
  },
  {
   "cell_type": "markdown",
   "metadata": {},
   "source": [
    "# Attraction Linear regression"
   ]
  },
  {
   "cell_type": "code",
   "execution_count": 266,
   "metadata": {},
   "outputs": [
    {
     "name": "stdout",
     "output_type": "stream",
     "text": [
      "R**2 value\n",
      "0.8676933551096475\n",
      "            Coefficients  Standard Errors  t values  Probabilites\n",
      "intercept_        0.0000          617.380     0.000         1.000\n",
      "Ald65_W           1.0466            0.134     7.810         0.000\n",
      "nIndustri         5.9310            2.320     2.557         0.017\n"
     ]
    }
   ],
   "source": [
    "from sklearn.linear_model import Lasso\n",
    "lin = Lasso(alpha=0.001,precompute=True,max_iter=10000, fit_intercept=False,\n",
    "            positive=True, random_state=42, selection='random')\n",
    "\n",
    "x_att = other_x_sams.drop(axis=1, labels=['TotBef','Ald20_24','appt_build','nEkonomi','small_building','nAttraction','Ald45_64','Ald25_44','multi_appartment_building','Ald16_19','nProduction','Ald7_15','Ald0_6','SAMSCODE', 'TotaltA2', 'OffentligaA2', 'NaringslivA2', 'TotaltA4', 'OffentligaA4', 'NaringslivA4'])\n",
    "y_att = other_day_pop.TotaltA4\n",
    "\n",
    "x_att = x_att.drop(labels=[1280,1281,1283,1290,1292, 1293])\n",
    "y_att = y_att.drop(labels=[1280,1281,1283,1290,1292, 1293])\n",
    "\n",
    "# x_att_s = x_att.append(pd.DataFrame(np.zeros(len(x_att.columns)), index=x_att.columns).T)\n",
    "scaler_att = StandardScaler(with_std=False, with_mean=False)\n",
    "# scaler_att = Normalizer()\n",
    "# scaler_att = MinMaxScaler()\n",
    "scaler_att.fit(x_att)\n",
    "\n",
    "X_att = pd.DataFrame(scaler_att.transform(x_att), columns=x_att.columns, index=x_att.index)\n",
    "attraction_model = lin.fit(X_att, y_att)\n",
    "train_att_pred = attraction_model.predict(X_att)\n",
    "score = r2_score(y_att, train_att_pred)\n",
    "print('R**2 value')\n",
    "print(score)\n",
    "print_stats(attraction_model, X_att, y_att)"
   ]
  },
  {
   "cell_type": "code",
   "execution_count": 267,
   "metadata": {},
   "outputs": [
    {
     "name": "stdout",
     "output_type": "stream",
     "text": [
      "R**2 value\n",
      "0.8672778489022592\n"
     ]
    }
   ],
   "source": [
    "y_att_pred = attraction_model.predict(scaler_att.transform(target_x_sams.loc[:, x_att.columns]))\n",
    "score = r2_score(y_att_pred, target_x_sams.TotaltA4)\n",
    "print('R**2 value')\n",
    "print(score)"
   ]
  },
  {
   "cell_type": "code",
   "execution_count": 265,
   "metadata": {},
   "outputs": [
    {
     "data": {
      "text/html": [
       "<div>\n",
       "<style scoped>\n",
       "    .dataframe tbody tr th:only-of-type {\n",
       "        vertical-align: middle;\n",
       "    }\n",
       "\n",
       "    .dataframe tbody tr th {\n",
       "        vertical-align: top;\n",
       "    }\n",
       "\n",
       "    .dataframe thead th {\n",
       "        text-align: right;\n",
       "    }\n",
       "</style>\n",
       "<table border=\"1\" class=\"dataframe\">\n",
       "  <thead>\n",
       "    <tr style=\"text-align: right;\">\n",
       "      <th></th>\n",
       "      <th>pred_att</th>\n",
       "      <th>TotaltA4</th>\n",
       "      <th>diff</th>\n",
       "    </tr>\n",
       "  </thead>\n",
       "  <tbody>\n",
       "    <tr>\n",
       "      <th>count</th>\n",
       "      <td>37.000000</td>\n",
       "      <td>37.000000</td>\n",
       "      <td>37.000000</td>\n",
       "    </tr>\n",
       "    <tr>\n",
       "      <th>mean</th>\n",
       "      <td>275.279144</td>\n",
       "      <td>269.675676</td>\n",
       "      <td>1.246250</td>\n",
       "    </tr>\n",
       "    <tr>\n",
       "      <th>std</th>\n",
       "      <td>293.077283</td>\n",
       "      <td>316.584380</td>\n",
       "      <td>0.557821</td>\n",
       "    </tr>\n",
       "    <tr>\n",
       "      <th>min</th>\n",
       "      <td>28.381631</td>\n",
       "      <td>10.000000</td>\n",
       "      <td>0.249729</td>\n",
       "    </tr>\n",
       "    <tr>\n",
       "      <th>25%</th>\n",
       "      <td>64.651042</td>\n",
       "      <td>64.000000</td>\n",
       "      <td>0.918018</td>\n",
       "    </tr>\n",
       "    <tr>\n",
       "      <th>50%</th>\n",
       "      <td>206.124611</td>\n",
       "      <td>151.000000</td>\n",
       "      <td>1.140307</td>\n",
       "    </tr>\n",
       "    <tr>\n",
       "      <th>75%</th>\n",
       "      <td>328.440185</td>\n",
       "      <td>297.000000</td>\n",
       "      <td>1.483573</td>\n",
       "    </tr>\n",
       "    <tr>\n",
       "      <th>max</th>\n",
       "      <td>1322.756690</td>\n",
       "      <td>1194.000000</td>\n",
       "      <td>3.060806</td>\n",
       "    </tr>\n",
       "  </tbody>\n",
       "</table>\n",
       "</div>"
      ],
      "text/plain": [
       "          pred_att     TotaltA4       diff\n",
       "count    37.000000    37.000000  37.000000\n",
       "mean    275.279144   269.675676   1.246250\n",
       "std     293.077283   316.584380   0.557821\n",
       "min      28.381631    10.000000   0.249729\n",
       "25%      64.651042    64.000000   0.918018\n",
       "50%     206.124611   151.000000   1.140307\n",
       "75%     328.440185   297.000000   1.483573\n",
       "max    1322.756690  1194.000000   3.060806"
      ]
     },
     "execution_count": 265,
     "metadata": {},
     "output_type": "execute_result"
    }
   ],
   "source": [
    "pred_attr_sams = pd.DataFrame(y_att_pred, index=target_x_sams.index, columns=['pred_att'])\n",
    "df = pd.concat([pred_attr_sams, target_day_pop.TotaltA4], axis=1)\n",
    "df['diff'] = df.pred_att / df.TotaltA4\n",
    "\n",
    "df.describe()"
   ]
  },
  {
   "cell_type": "code",
   "execution_count": 257,
   "metadata": {},
   "outputs": [
    {
     "data": {
      "text/plain": [
       "<matplotlib.axes._subplots.AxesSubplot at 0x7f7e7c457390>"
      ]
     },
     "execution_count": 257,
     "metadata": {},
     "output_type": "execute_result"
    },
    {
     "data": {
      "image/png": "[encoded data removed]",
      "text/plain": [
       "<Figure size 432x288 with 1 Axes>"
      ]
     },
     "metadata": {},
     "output_type": "display_data"
    },
    {
     "data": {
      "image/png": "[encoded data removed]",
      "text/plain": [
       "<Figure size 432x288 with 1 Axes>"
      ]
     },
     "metadata": {},
     "output_type": "display_data"
    }
   ],
   "source": [
    "xp = (all_x_sams.multi_appartment_building.drop(labels=[1280,1281,1283,1290,1292, 1293]))\n",
    "yp = all_y_att.TotaltA4.drop(labels=[1280,1281,1283,1290,1292, 1293])\n",
    "# xp = all_x_sams.small_building\n",
    "# yp = all_y_att.TotaltA4\n",
    "\n",
    "fig, ax = plt.subplots()\n",
    "\n",
    "ax.scatter(xp, yp)\n",
    "lims = [\n",
    "    np.min([ax.get_xlim(), ax.get_ylim()]),  # min of both axes\n",
    "    np.max([ax.get_xlim(), ax.get_ylim()]),  # max of both axes\n",
    "]\n",
    "# ax.plot(lims, lims, 'k-', alpha=0.75, zorder=0)\n",
    "\n",
    "ax.plot(np.unique(xp), np.poly1d(np.polyfit(xp, yp, 1))(np.unique(xp)), color='red')\n",
    "\n",
    "ax.plot()\n",
    "\n",
    "fig, ax = plt.subplots()\n",
    "sns.set(style=\"whitegrid\")\n",
    "\n",
    "# Plot the residuals after fitting a linear model\n",
    "sns.residplot(xp, yp, lowess=True, color=\"g\")"
   ]
  },
  {
   "cell_type": "markdown",
   "metadata": {},
   "source": [
    "# Gravity model for SAMS"
   ]
  },
  {
   "cell_type": "markdown",
   "metadata": {},
   "source": [
    "# Gravity"
   ]
  },
  {
   "cell_type": "code",
   "execution_count": 288,
   "metadata": {},
   "outputs": [],
   "source": [
    "sams_distance_matrix = pd.read_csv('data/sams_distance_matrix.csv', sep=';', index_col=[0])\n",
    "sams_distance_matrix.columns = sams_distance_matrix.index\n",
    "#the thing above is differently sorted\n",
    "sams_distance_matrix = sams_distance_matrix.sort_index().T.sort_index().T"
   ]
  },
  {
   "cell_type": "code",
   "execution_count": 289,
   "metadata": {},
   "outputs": [],
   "source": [
    "sams_distance_matrix.replace(0, np.nan, inplace=True)\n",
    "for (idx, value) in sams_distance_matrix.min().iteritems():\n",
    "    sams_distance_matrix.at[int(idx), idx] = value * (2.0 / 3)\n",
    "sams_distance_matrix.at[12650001, 12650002] = sams_distance_matrix.loc[12650001].min() * (1.0 / 2)\n",
    "sams_distance_matrix.at[12650002, 12650001] = sams_distance_matrix.loc[12650002].min() * (1.0 / 2)\n",
    "sams_distance_matrix.at[12700020, 12700001] = sams_distance_matrix.loc[12700020].min() * (1.0 / 2)\n",
    "sams_distance_matrix.at[12700001, 12700020] = sams_distance_matrix.loc[12700001].min() * (1.0 / 2)"
   ]
  },
  {
   "cell_type": "code",
   "execution_count": 290,
   "metadata": {},
   "outputs": [],
   "source": [
    "pred_prod_sams = pd.DataFrame(production_model.predict(scaler_att.transform(all_x_sams.loc[:, x_prod.columns])), index=all_x_sams.index, columns=['predicted_production']).sort_index()\n",
    "pred_attr_sams = pd.DataFrame(attraction_model.predict(scaler_att.transform(all_x_sams.loc[:, x_att.columns])), index=all_x_sams.index, columns=['predicted_attraction']).sort_index()\n",
    "\n",
    "# pred_attr_sams_b = pred_attr_sams * (pred_prod_sams.sum().values / pred_attr_sams.sum().values)"
   ]
  },
  {
   "cell_type": "markdown",
   "metadata": {},
   "source": [
    "### Mean trip length from RVU"
   ]
  },
  {
   "cell_type": "code",
   "execution_count": 291,
   "metadata": {},
   "outputs": [
    {
     "name": "stdout",
     "output_type": "stream",
     "text": [
      "19718.22845453004\n"
     ]
    }
   ],
   "source": [
    "resfil_raw = pd.read_csv('data/rvu/RVU_resfil.csv')\n",
    "resfil_raw = resfil_raw[resfil_raw['ärende_2'] == 1]\n",
    "\n",
    "rvu_mtl = resfil_raw['rf7_km'].mean() * 1000\n",
    "print(rvu_mtl)"
   ]
  },
  {
   "cell_type": "code",
   "execution_count": 292,
   "metadata": {},
   "outputs": [
    {
     "name": "stdout",
     "output_type": "stream",
     "text": [
      "Checking production, attraction balancing:\n",
      "Production:  590363.5965259195\n",
      "Attraction:  335016.76980787306\n",
      "Productions and attractions do not balance, attractions will be scaled to productions!\n"
     ]
    }
   ],
   "source": [
    "f = sams_distance_matrix.values\n",
    "cost_matrix = np.exp(-8.210386390939112e-05*(f))\n",
    "Trips1 = fratar_double_constrained(prodA = pred_prod_sams.values.flatten(),\n",
    "                                   attrA = pred_attr_sams.values.flatten(), \n",
    "                                   cost_matrix = cost_matrix,\n",
    "                                    num_iter=100)"
   ]
  },
  {
   "cell_type": "code",
   "execution_count": 341,
   "metadata": {
    "scrolled": true
   },
   "outputs": [
    {
     "name": "stdout",
     "output_type": "stream",
     "text": [
      "Checking production, attraction balancing:\n",
      "Production:  590363.5965259195\n",
      "Attraction:  335016.76980787306\n",
      "Productions and attractions do not balance, attractions will be scaled to productions!\n",
      "iteration:  0  coefficient:  -1.110656956800542e-05  average trip length (model):  56320.604347503664\n",
      "iteration:  1  coefficient:  -1.2310205801791982e-05  average trip length (model):  55172.36705941532\n",
      "iteration:  2  coefficient:  -1.3613346451106114e-05  average trip length (model):  53934.136584492364\n",
      "iteration:  3  coefficient:  -1.5016766195605309e-05  average trip length (model):  52599.68128728664\n",
      "iteration:  4  coefficient:  -1.651946950435018e-05  average trip length (model):  51175.8033770983\n",
      "iteration:  5  coefficient:  -1.8119057194573463e-05  average trip length (model):  49689.30099732443\n",
      "iteration:  6  coefficient:  -1.981028814584469e-05  average trip length (model):  48130.443139000476\n",
      "iteration:  7  coefficient:  -2.1586699804511343e-05  average trip length (model):  46539.5831889286\n",
      "iteration:  8  coefficient:  -2.343851974008408e-05  average trip length (model):  44906.29002803913\n",
      "iteration:  9  coefficient:  -2.535459929207046e-05  average trip length (model):  43264.69071591628\n",
      "iteration:  10  coefficient:  -2.7321804827853422e-05  average trip length (model):  41628.832174192365\n",
      "iteration:  11  coefficient:  -2.9326549256164344e-05  average trip length (model):  40029.82482408422\n",
      "iteration:  12  coefficient:  -3.1354677054920556e-05  average trip length (model):  38484.12105934473\n",
      "iteration:  13  coefficient:  -3.339240106869506e-05  average trip length (model):  37010.16775041539\n",
      "iteration:  14  coefficient:  -3.542738631755577e-05  average trip length (model):  35627.27002978045\n",
      "iteration:  15  coefficient:  -3.744755470669875e-05  average trip length (model):  34332.97220887075\n",
      "iteration:  16  coefficient:  -3.94414157262652e-05  average trip length (model):  33125.17702820251\n",
      "iteration:  17  coefficient:  -4.140127121110526e-05  average trip length (model):  32024.30423076428\n",
      "iteration:  18  coefficient:  -4.331972893285061e-05  average trip length (model):  31016.189145685705\n",
      "iteration:  19  coefficient:  -4.518946992311104e-05  average trip length (model):  30087.289180343476\n",
      "iteration:  20  coefficient:  -4.7005722689167524e-05  average trip length (model):  29241.709939981185\n",
      "iteration:  21  coefficient:  -4.8764759833786e-05  average trip length (model):  28472.22777566566\n",
      "iteration:  22  coefficient:  -5.046420735480066e-05  average trip length (model):  27774.200025211114\n",
      "iteration:  23  coefficient:  -5.2099937275796035e-05  average trip length (model):  27127.22296684405\n",
      "iteration:  24  coefficient:  -5.3672722995282245e-05  average trip length (model):  26548.02268343128\n",
      "iteration:  25  coefficient:  -5.518199372889559e-05  average trip length (model):  26019.89134612364\n",
      "iteration:  26  coefficient:  -5.6627166807539696e-05  average trip length (model):  25535.38162111704\n",
      "iteration:  27  coefficient:  -5.8009986409305026e-05  average trip length (model):  25098.46709241183\n",
      "iteration:  28  coefficient:  -5.9330822346533015e-05  average trip length (model):  24696.98485359532\n",
      "iteration:  29  coefficient:  -6.058971240011372e-05  average trip length (model):  24325.01551299211\n",
      "iteration:  30  coefficient:  -6.178743471902672e-05  average trip length (model):  23981.736661010953\n",
      "iteration:  31  coefficient:  -6.292780828451002e-05  average trip length (model):  23675.126452772543\n",
      "iteration:  32  coefficient:  -6.401139620934193e-05  average trip length (model):  23389.171338983266\n",
      "iteration:  33  coefficient:  -6.504007316617357e-05  average trip length (model):  23126.24406111549\n",
      "iteration:  34  coefficient:  -6.601575739003322e-05  average trip length (model):  22884.09727123605\n",
      "iteration:  35  coefficient:  -6.694030851728505e-05  average trip length (model):  22660.468665471766\n",
      "iteration:  36  coefficient:  -6.781634620022204e-05  average trip length (model):  22456.11739184851\n",
      "iteration:  37  coefficient:  -6.86440020561373e-05  average trip length (model):  22261.272115265616\n",
      "iteration:  38  coefficient:  -6.942760453022022e-05  average trip length (model):  22088.374017034912\n",
      "iteration:  39  coefficient:  -7.016702278450996e-05  average trip length (model):  21921.818632293096\n",
      "iteration:  40  coefficient:  -7.086646898833347e-05  average trip length (model):  21774.356946757518\n",
      "iteration:  41  coefficient:  -7.152510274377271e-05  average trip length (model):  21629.419163186823\n",
      "iteration:  42  coefficient:  -7.214711208912136e-05  average trip length (model):  21501.685672425137\n",
      "iteration:  43  coefficient:  -7.273367540094323e-05  average trip length (model):  21381.28076053296\n",
      "iteration:  44  coefficient:  -7.328693728497452e-05  average trip length (model):  21270.528441455546\n",
      "iteration:  45  coefficient:  -7.380835459188078e-05  average trip length (model):  21166.90717861152\n",
      "iteration:  46  coefficient:  -7.429883397451806e-05  average trip length (model):  21068.452529909566\n",
      "iteration:  47  coefficient:  -7.47609088477227e-05  average trip length (model):  20979.427670094912\n",
      "iteration:  48  coefficient:  -7.519590089015898e-05  average trip length (model):  20896.03267172414\n",
      "iteration:  49  coefficient:  -7.560651267417965e-05  average trip length (model):  20821.80113847699\n",
      "iteration:  50  coefficient:  -7.599090313672667e-05  average trip length (model):  20743.97049953948\n",
      "iteration:  51  coefficient:  -7.635291557782959e-05  average trip length (model):  20677.978926814834\n",
      "iteration:  52  coefficient:  -7.669372811605983e-05  average trip length (model):  20616.271956289624\n",
      "iteration:  53  coefficient:  -7.701442727950483e-05  average trip length (model):  20558.446776795965\n",
      "iteration:  54  coefficient:  -7.7315782828231e-05  average trip length (model):  20503.52669068755\n",
      "iteration:  55  coefficient:  -7.760020433602911e-05  average trip length (model):  20455.729275904265\n",
      "iteration:  56  coefficient:  -7.786680348190982e-05  average trip length (model):  20406.227005735454\n",
      "iteration:  57  coefficient:  -7.811759244409655e-05  average trip length (model):  20362.58575499905\n",
      "iteration:  58  coefficient:  -7.835268948971808e-05  average trip length (model):  20319.75549530357\n",
      "iteration:  59  coefficient:  -7.857401383515426e-05  average trip length (model):  20282.346594837454\n",
      "iteration:  60  coefficient:  -7.878130917994364e-05  average trip length (model):  20244.657794360144\n",
      "iteration:  61  coefficient:  -7.89755627178371e-05  average trip length (model):  20209.857362988387\n",
      "iteration:  62  coefficient:  -7.915764858173842e-05  average trip length (model):  20177.597363553454\n",
      "iteration:  63  coefficient:  -7.932964426341874e-05  average trip length (model):  20150.884514324065\n",
      "iteration:  64  coefficient:  -7.949034457566496e-05  average trip length (model):  20121.327130708647\n",
      "iteration:  65  coefficient:  -7.963977561492908e-05  average trip length (model):  20092.055800137456\n",
      "iteration:  66  coefficient:  -7.978025727611596e-05  average trip length (model):  20068.82480116331\n",
      "iteration:  67  coefficient:  -7.991206617016554e-05  average trip length (model):  20046.43575125227\n",
      "iteration:  68  coefficient:  -8.003652792720242e-05  average trip length (model):  20027.49807610798\n",
      "iteration:  69  coefficient:  -8.015300687993002e-05  average trip length (model):  20007.078875882424\n",
      "iteration:  70  coefficient:  -8.02620208439046e-05  average trip length (model):  19988.05814518574\n",
      "iteration:  71  coefficient:  -8.036432183054606e-05  average trip length (model):  19971.00100208322\n",
      "iteration:  72  coefficient:  -8.046084151253782e-05  average trip length (model):  19956.333644153397\n",
      "iteration:  73  coefficient:  -8.055073755748169e-05  average trip length (model):  19939.64415932215\n",
      "iteration:  74  coefficient:  -8.063567694666477e-05  average trip length (model):  19927.14325725574\n",
      "iteration:  75  coefficient:  -8.071544184348846e-05  average trip length (model):  19914.15193255549\n",
      "iteration:  76  coefficient:  -8.079047853467803e-05  average trip length (model):  19902.30670236583\n",
      "iteration:  77  coefficient:  -8.086063659164902e-05  average trip length (model):  19890.131276428852\n",
      "iteration:  78  coefficient:  -8.092645374091198e-05  average trip length (model):  19879.31567314155\n",
      "iteration:  79  coefficient:  -8.098893494914305e-05  average trip length (model):  19870.99778381771\n",
      "iteration:  80  coefficient:  -8.104732840028801e-05  average trip length (model):  19860.86008651879\n",
      "iteration:  81  coefficient:  -8.110232487322843e-05  average trip length (model):  19852.440209102417\n",
      "iteration:  82  coefficient:  -8.115351751104923e-05  average trip length (model):  19843.046107801583\n",
      "iteration:  83  coefficient:  -8.120089711781333e-05  average trip length (model):  19833.651694852608\n",
      "iteration:  84  coefficient:  -8.124546337903199e-05  average trip length (model):  19826.7175589498\n",
      "iteration:  85  coefficient:  -8.128754919232647e-05  average trip length (model):  19820.608913689073\n",
      "iteration:  86  coefficient:  -8.13272069268285e-05  average trip length (model):  19814.639194224295\n",
      "iteration:  87  coefficient:  -8.136464099107077e-05  average trip length (model):  19809.177625761193\n",
      "iteration:  88  coefficient:  -8.139972103362573e-05  average trip length (model):  19803.407946175736\n",
      "iteration:  89  coefficient:  -8.14323697535245e-05  average trip length (model):  19797.45945305553\n",
      "iteration:  90  coefficient:  -8.146279488058232e-05  average trip length (model):  19792.024572864644\n",
      "iteration:  91  coefficient:  -8.149121946840701e-05  average trip length (model):  19787.13885600968\n",
      "iteration:  92  coefficient:  -8.151798234938212e-05  average trip length (model):  19783.08172112063\n",
      "iteration:  93  coefficient:  -8.154313635526204e-05  average trip length (model):  19779.15755323731\n",
      "iteration:  94  coefficient:  -8.15670063032483e-05  average trip length (model):  19776.025296662425\n",
      "iteration:  95  coefficient:  -8.15895416852761e-05  average trip length (model):  19772.773875775794\n",
      "iteration:  96  coefficient:  -8.161033699104863e-05  average trip length (model):  19768.543384973855\n",
      "iteration:  97  coefficient:  -8.162968263756515e-05  average trip length (model):  19765.020204469947\n",
      "iteration:  98  coefficient:  -8.164751402131412e-05  average trip length (model):  19761.34379092044\n",
      "iteration:  99  coefficient:  -8.166396847965523e-05  average trip length (model):  19758.002741930693\n",
      "iteration:  100  coefficient:  -8.167979829272271e-05  average trip length (model):  19756.483793834654\n",
      "iteration:  101  coefficient:  -8.169487883019141e-05  average trip length (model):  19754.664472883465\n",
      "iteration:  102  coefficient:  -8.170922470042127e-05  average trip length (model):  19752.881640526553\n",
      "iteration:  103  coefficient:  -8.172268227298946e-05  average trip length (model):  19750.728609785605\n",
      "iteration:  104  coefficient:  -8.173504228456721e-05  average trip length (model):  19748.07126745141\n",
      "iteration:  105  coefficient:  -8.17465188362899e-05  average trip length (model):  19745.932643875683\n",
      "iteration:  106  coefficient:  -8.175676265568632e-05  average trip length (model):  19742.951698406596\n",
      "iteration:  107  coefficient:  -8.17662265456051e-05  average trip length (model):  19741.065510953027\n",
      "iteration:  108  coefficient:  -8.177517399003859e-05  average trip length (model):  19739.816176401062\n",
      "iteration:  109  coefficient:  -8.178380643934672e-05  average trip length (model):  19739.053538817054\n",
      "iteration:  110  coefficient:  -8.179216707766608e-05  average trip length (model):  19738.39538526539\n",
      "iteration:  111  coefficient:  -8.179982363817931e-05  average trip length (model):  19736.694455319295\n",
      "iteration:  112  coefficient:  -8.180702887737315e-05  average trip length (model):  19735.603905295102\n",
      "iteration:  113  coefficient:  -8.181364483619068e-05  average trip length (model):  19734.180931423278\n",
      "iteration:  114  coefficient:  -8.181976620565491e-05  average trip length (model):  19732.986776290276\n",
      "iteration:  115  coefficient:  -8.1825659074317e-05  average trip length (model):  19732.43463022021\n",
      "iteration:  116  coefficient:  -8.183134946164296e-05  average trip length (model):  19731.945359301117\n",
      "iteration:  117  coefficient:  -8.183667942867088e-05  average trip length (model):  19731.075403497714\n"
     ]
    },
    {
     "name": "stdout",
     "output_type": "stream",
     "text": [
      "iteration:  118  coefficient:  -8.184180402744745e-05  average trip length (model):  19730.579455220104\n",
      "iteration:  119  coefficient:  -8.184672332706552e-05  average trip length (model):  19730.083779069693\n",
      "iteration:  120  coefficient:  -8.185130985038348e-05  average trip length (model):  19729.280934113798\n",
      "iteration:  121  coefficient:  -8.185534607396908e-05  average trip length (model):  19727.953997323708\n",
      "iteration:  122  coefficient:  -8.18591704302586e-05  average trip length (model):  19727.442927500975\n",
      "iteration:  123  coefficient:  -8.18626916895105e-05  average trip length (model):  19726.71210222114\n",
      "iteration:  124  coefficient:  -8.186596425055873e-05  average trip length (model):  19726.11247527505\n",
      "iteration:  125  coefficient:  -8.186887509025885e-05  average trip length (model):  19725.24062218864\n",
      "iteration:  126  coefficient:  -8.187165391069696e-05  average trip length (model):  19724.9223032122\n",
      "iteration:  127  coefficient:  -8.187416290710885e-05  average trip length (model):  19724.27203435143\n",
      "iteration:  128  coefficient:  -8.187656792807372e-05  average trip length (model):  19724.021371396677\n",
      "iteration:  129  coefficient:  -8.187875148226455e-05  average trip length (model):  19723.487711110625\n",
      "iteration:  130  coefficient:  -8.188089121297974e-05  average trip length (model):  19723.382009062843\n",
      "iteration:  131  coefficient:  -8.188277351317791e-05  average trip length (model):  19722.76180346181\n",
      "iteration:  132  coefficient:  -8.188447019820118e-05  average trip length (model):  19722.31463055699\n",
      "iteration:  133  coefficient:  -8.188597904100055e-05  average trip length (model):  19721.862131838596\n",
      "iteration:  134  coefficient:  -8.188747852954577e-05  average trip length (model):  19721.839536013456\n",
      "iteration:  135  coefficient:  -8.18889282952566e-05  average trip length (model):  19721.719719570032\n",
      "iteration:  136  coefficient:  -8.189025825953022e-05  average trip length (model):  19721.43114097729\n",
      "iteration:  137  coefficient:  -8.189152520531693e-05  average trip length (model):  19721.27932606514\n",
      "iteration:  138  coefficient:  -8.189248989747264e-05  average trip length (model):  19720.551409031923\n",
      "iteration:  139  coefficient:  -8.189342772186073e-05  average trip length (model):  19720.486682184033\n",
      "iteration:  140  coefficient:  -8.189430805651996e-05  average trip length (model):  19720.348219221756\n",
      "iteration:  141  coefficient:  -8.189515228485171e-05  average trip length (model):  19720.261252627883\n",
      "iteration:  142  coefficient:  -8.189595529451929e-05  average trip length (model):  19720.161978836364\n",
      "iteration:  143  coefficient:  -8.189674459516905e-05  average trip length (model):  19720.12894955346\n",
      "iteration:  144  coefficient:  -8.189749114019437e-05  average trip length (model):  19720.025980096372\n",
      "iteration:  145  coefficient:  -8.189820080232256e-05  average trip length (model):  19719.937154691135\n",
      "iteration:  146  coefficient:  -8.189891274545071e-05  average trip length (model):  19719.94263216518\n",
      "iteration:  147  coefficient:  -8.189963587027475e-05  average trip length (model):  19719.9695407734\n",
      "iteration:  148  coefficient:  -8.190027861398694e-05  average trip length (model):  19719.77598460303\n",
      "iteration:  149  coefficient:  -8.190088444208821e-05  average trip length (model):  19719.68708870791\n",
      "iteration:  150  coefficient:  -8.190135991976661e-05  average trip length (model):  19719.373231230707\n",
      "iteration:  151  coefficient:  -8.190179087009654e-05  average trip length (model):  19719.266017065827\n",
      "iteration:  152  coefficient:  -8.190222182269406e-05  average trip length (model):  19719.266017065827\n",
      "iteration:  153  coefficient:  -8.190265277755917e-05  average trip length (model):  19719.266017065827\n",
      "iteration:  154  coefficient:  -8.190308373469189e-05  average trip length (model):  19719.266017065827\n",
      "iteration:  155  coefficient:  -8.190352087789113e-05  average trip length (model):  19719.28090531785\n",
      "iteration:  156  coefficient:  -8.190395802342355e-05  average trip length (model):  19719.28090531785\n",
      "iteration:  157  coefficient:  -8.190439385604373e-05  average trip length (model):  19719.27773873662\n",
      "iteration:  158  coefficient:  -8.190476815199074e-05  average trip length (model):  19719.129578929234\n",
      "iteration:  159  coefficient:  -8.190512719508076e-05  average trip length (model):  19719.092852719914\n",
      "iteration:  160  coefficient:  -8.190548362898955e-05  average trip length (model):  19719.086567217175\n",
      "iteration:  161  coefficient:  -8.19057585666999e-05  average trip length (model):  19718.890359720634\n",
      "iteration:  162  coefficient:  -8.190601294191341e-05  average trip length (model):  19718.84085331138\n",
      "iteration:  163  coefficient:  -8.190625801068238e-05  average trip length (model):  19718.81844626138\n",
      "iteration:  164  coefficient:  -8.190648157524158e-05  average trip length (model):  19718.766673624195\n",
      "iteration:  165  coefficient:  -8.190670514041101e-05  average trip length (model):  19718.766673624195\n",
      "iteration:  166  coefficient:  -8.190693801350517e-05  average trip length (model):  19718.78908062444\n",
      "iteration:  167  coefficient:  -8.19070058683987e-05  average trip length (model):  19718.391808613702\n",
      "iteration:  168  coefficient:  -8.190706146417532e-05  average trip length (model):  19718.362295776114\n",
      "iteration:  169  coefficient:  -8.190711705998966e-05  average trip length (model):  19718.362295776114\n",
      "iteration:  170  coefficient:  -8.190717265584175e-05  average trip length (model):  19718.362295776114\n",
      "iteration:  171  coefficient:  -8.190722825173156e-05  average trip length (model):  19718.362295776114\n",
      "iteration:  172  coefficient:  -8.190728309170348e-05  average trip length (model):  19718.360475888345\n",
      "iteration:  173  coefficient:  -8.190733793171211e-05  average trip length (model):  19718.360475888345\n",
      "iteration:  174  coefficient:  -8.190739277175747e-05  average trip length (model):  19718.360475888345\n",
      "iteration:  175  coefficient:  -8.190744761183955e-05  average trip length (model):  19718.360475888345\n",
      "iteration:  176  coefficient:  -8.190750245195834e-05  average trip length (model):  19718.360475888345\n",
      "iteration:  177  coefficient:  -8.190755729211384e-05  average trip length (model):  19718.360475888345\n",
      "iteration:  178  coefficient:  -8.190761213230607e-05  average trip length (model):  19718.360475888345\n",
      "iteration:  179  coefficient:  -8.190766697253501e-05  average trip length (model):  19718.360475888345\n",
      "iteration:  180  coefficient:  -8.190772181280067e-05  average trip length (model):  19718.360475888345\n",
      "iteration:  181  coefficient:  -8.190777665310305e-05  average trip length (model):  19718.360475888345\n",
      "iteration:  182  coefficient:  -8.190783149344215e-05  average trip length (model):  19718.360475888345\n",
      "iteration:  183  coefficient:  -8.190788633381796e-05  average trip length (model):  19718.360475888345\n",
      "iteration:  184  coefficient:  -8.190794117423048e-05  average trip length (model):  19718.360475888345\n",
      "iteration:  185  coefficient:  -8.190799601467974e-05  average trip length (model):  19718.360475888345\n",
      "iteration:  186  coefficient:  -8.19080508551657e-05  average trip length (model):  19718.360475888345\n",
      "iteration:  187  coefficient:  -8.190808178927029e-05  average trip length (model):  19718.30292422764\n",
      "iteration:  188  coefficient:  -8.190811272338656e-05  average trip length (model):  19718.30292422764\n",
      "iteration:  189  coefficient:  -8.19081286800356e-05  average trip length (model):  19718.26686795653\n",
      "iteration:  190  coefficient:  -8.190814463668773e-05  average trip length (model):  19718.26686795653\n",
      "iteration:  191  coefficient:  -8.190816059334299e-05  average trip length (model):  19718.26686795653\n",
      "iteration:  192  coefficient:  -8.190817655000135e-05  average trip length (model):  19718.26686795653\n",
      "iteration:  193  coefficient:  -8.190819250666282e-05  average trip length (model):  19718.26686795653\n",
      "iteration:  194  coefficient:  -8.19082084633274e-05  average trip length (model):  19718.26686795653\n",
      "iteration:  195  coefficient:  -8.190822441999508e-05  average trip length (model):  19718.26686795653\n",
      "iteration:  196  coefficient:  -8.190824037666588e-05  average trip length (model):  19718.26686795653\n",
      "iteration:  197  coefficient:  -8.190825633333978e-05  average trip length (model):  19718.26686795653\n",
      "iteration:  198  coefficient:  -8.190827229001679e-05  average trip length (model):  19718.26686795653\n",
      "iteration:  199  coefficient:  -8.190828824669691e-05  average trip length (model):  19718.26686795653\n",
      "iteration:  200  coefficient:  -8.190830420338014e-05  average trip length (model):  19718.26686795653\n",
      "iteration:  201  coefficient:  -8.190832016006648e-05  average trip length (model):  19718.26686795653\n",
      "iteration:  202  coefficient:  -8.190833611675593e-05  average trip length (model):  19718.26686795653\n",
      "iteration:  203  coefficient:  -8.190835207344848e-05  average trip length (model):  19718.26686795653\n",
      "iteration:  204  coefficient:  -8.190836803014415e-05  average trip length (model):  19718.26686795653\n",
      "iteration:  205  coefficient:  -8.190838398684292e-05  average trip length (model):  19718.26686795653\n",
      "iteration:  206  coefficient:  -8.19083999435448e-05  average trip length (model):  19718.26686795653\n",
      "iteration:  207  coefficient:  -8.190841590024979e-05  average trip length (model):  19718.26686795653\n",
      "iteration:  208  coefficient:  -8.190843185695788e-05  average trip length (model):  19718.26686795653\n",
      "iteration:  209  coefficient:  -8.190844781366908e-05  average trip length (model):  19718.26686795653\n",
      "iteration:  210  coefficient:  -8.19084637703834e-05  average trip length (model):  19718.26686795653\n",
      "iteration:  211  coefficient:  -8.190847972710082e-05  average trip length (model):  19718.26686795653\n",
      "iteration:  212  coefficient:  -8.190849568382136e-05  average trip length (model):  19718.26686795653\n",
      "iteration:  213  coefficient:  -8.1908511640545e-05  average trip length (model):  19718.26686795653\n",
      "iteration:  214  coefficient:  -8.190852759727174e-05  average trip length (model):  19718.26686795653\n",
      "iteration:  215  coefficient:  -8.19085435540016e-05  average trip length (model):  19718.26686795653\n",
      "iteration:  216  coefficient:  -8.190855951073457e-05  average trip length (model):  19718.26686795653\n",
      "iteration:  217  coefficient:  -8.190857546747063e-05  average trip length (model):  19718.26686795653\n",
      "iteration:  218  coefficient:  -8.190859142420982e-05  average trip length (model):  19718.26686795653\n",
      "iteration:  219  coefficient:  -8.190860738095211e-05  average trip length (model):  19718.26686795653\n",
      "iteration:  220  coefficient:  -8.190862333769751e-05  average trip length (model):  19718.26686795653\n",
      "iteration:  221  coefficient:  -8.190863929444602e-05  average trip length (model):  19718.26686795653\n",
      "iteration:  222  coefficient:  -8.190865525119764e-05  average trip length (model):  19718.26686795653\n",
      "iteration:  223  coefficient:  -8.190867120795237e-05  average trip length (model):  19718.26686795653\n",
      "iteration:  224  coefficient:  -8.19086871647102e-05  average trip length (model):  19718.26686795653\n",
      "iteration:  225  coefficient:  -8.190868817426772e-05  average trip length (model):  19718.230884881137\n",
      "iteration:  226  coefficient:  -8.190868918382526e-05  average trip length (model):  19718.230884881137\n",
      "iteration:  227  coefficient:  -8.19086901933828e-05  average trip length (model):  19718.230884881137\n",
      "iteration:  228  coefficient:  -8.190869120294035e-05  average trip length (model):  19718.230884881137\n",
      "iteration:  229  coefficient:  -8.190869221249791e-05  average trip length (model):  19718.230884881137\n"
     ]
    },
    {
     "name": "stdout",
     "output_type": "stream",
     "text": [
      "iteration:  230  coefficient:  -8.190869322205549e-05  average trip length (model):  19718.230884881137\n",
      "iteration:  231  coefficient:  -8.190869423161308e-05  average trip length (model):  19718.230884881137\n",
      "iteration:  232  coefficient:  -8.190869524117068e-05  average trip length (model):  19718.230884881137\n",
      "iteration:  233  coefficient:  -8.19086962507283e-05  average trip length (model):  19718.230884881137\n",
      "iteration:  234  coefficient:  -8.190869726028593e-05  average trip length (model):  19718.230884881137\n",
      "iteration:  235  coefficient:  -8.190869826984357e-05  average trip length (model):  19718.230884881137\n",
      "iteration:  236  coefficient:  -8.190869927940123e-05  average trip length (model):  19718.230884881137\n",
      "iteration:  237  coefficient:  -8.19087002889589e-05  average trip length (model):  19718.230884881137\n",
      "iteration:  238  coefficient:  -8.190870129851659e-05  average trip length (model):  19718.230884881137\n",
      "iteration:  239  coefficient:  -8.190870230807427e-05  average trip length (model):  19718.230884881137\n",
      "iteration:  240  coefficient:  -8.190870331763197e-05  average trip length (model):  19718.230884881137\n",
      "iteration:  241  coefficient:  -8.190870432718969e-05  average trip length (model):  19718.230884881137\n",
      "iteration:  242  coefficient:  -8.190870533674741e-05  average trip length (model):  19718.230884881137\n",
      "iteration:  243  coefficient:  -8.190870634630515e-05  average trip length (model):  19718.230884881137\n",
      "iteration:  244  coefficient:  -8.19087073558629e-05  average trip length (model):  19718.230884881137\n",
      "iteration:  245  coefficient:  -8.190870836542067e-05  average trip length (model):  19718.230884881137\n",
      "iteration:  246  coefficient:  -8.190870937497845e-05  average trip length (model):  19718.230884881137\n",
      "iteration:  247  coefficient:  -8.190871038453625e-05  average trip length (model):  19718.230884881137\n",
      "iteration:  248  coefficient:  -8.190871139409405e-05  average trip length (model):  19718.230884881137\n",
      "iteration:  249  coefficient:  -8.190871240365187e-05  average trip length (model):  19718.230884881137\n",
      "iteration:  250  coefficient:  -8.190871341320971e-05  average trip length (model):  19718.230884881137\n",
      "iteration:  251  coefficient:  -8.190871442276754e-05  average trip length (model):  19718.230884881137\n",
      "iteration:  252  coefficient:  -8.190871543232539e-05  average trip length (model):  19718.230884881137\n",
      "iteration:  253  coefficient:  -8.190871644188325e-05  average trip length (model):  19718.230884881137\n",
      "iteration:  254  coefficient:  -8.190871745144113e-05  average trip length (model):  19718.230884881137\n",
      "iteration:  255  coefficient:  -8.190871846099902e-05  average trip length (model):  19718.230884881137\n",
      "iteration:  256  coefficient:  -8.190871947055692e-05  average trip length (model):  19718.230884881137\n",
      "iteration:  257  coefficient:  -8.190872048011483e-05  average trip length (model):  19718.230884881137\n",
      "iteration:  258  coefficient:  -8.190872148967276e-05  average trip length (model):  19718.230884881137\n",
      "iteration:  259  coefficient:  -8.19087224992307e-05  average trip length (model):  19718.230884881137\n",
      "iteration:  260  coefficient:  -8.190872350878866e-05  average trip length (model):  19718.230884881137\n",
      "iteration:  261  coefficient:  -8.190872451834663e-05  average trip length (model):  19718.230884881137\n",
      "iteration:  262  coefficient:  -8.190872552790462e-05  average trip length (model):  19718.230884881137\n",
      "iteration:  263  coefficient:  -8.19087265374626e-05  average trip length (model):  19718.230884881137\n",
      "iteration:  264  coefficient:  -8.19087275470206e-05  average trip length (model):  19718.230884881137\n",
      "iteration:  265  coefficient:  -8.190872855657861e-05  average trip length (model):  19718.230884881137\n",
      "iteration:  266  coefficient:  -8.190872956613663e-05  average trip length (model):  19718.230884881137\n",
      "iteration:  267  coefficient:  -8.190873057569467e-05  average trip length (model):  19718.230884881137\n",
      "iteration:  268  coefficient:  -8.190873158525272e-05  average trip length (model):  19718.230884881137\n",
      "iteration:  269  coefficient:  -8.190873259481079e-05  average trip length (model):  19718.230884881137\n",
      "iteration:  270  coefficient:  -8.190873360436886e-05  average trip length (model):  19718.230884881137\n",
      "iteration:  271  coefficient:  -8.190873461392696e-05  average trip length (model):  19718.230884881137\n",
      "iteration:  272  coefficient:  -8.190873562348506e-05  average trip length (model):  19718.230884881137\n",
      "iteration:  273  coefficient:  -8.190873663304318e-05  average trip length (model):  19718.230884881137\n",
      "iteration:  274  coefficient:  -8.190873764260131e-05  average trip length (model):  19718.230884881137\n",
      "iteration:  275  coefficient:  -8.190873865215946e-05  average trip length (model):  19718.230884881137\n",
      "iteration:  276  coefficient:  -8.19087396617176e-05  average trip length (model):  19718.230884881137\n",
      "iteration:  277  coefficient:  -8.190874067127577e-05  average trip length (model):  19718.230884881137\n",
      "iteration:  278  coefficient:  -8.190874168083394e-05  average trip length (model):  19718.230884881137\n",
      "iteration:  279  coefficient:  -8.190874269039213e-05  average trip length (model):  19718.230884881137\n",
      "iteration:  280  coefficient:  -8.190874369995033e-05  average trip length (model):  19718.230884881137\n",
      "iteration:  281  coefficient:  -8.190874470950854e-05  average trip length (model):  19718.230884881137\n",
      "iteration:  282  coefficient:  -8.190874571906677e-05  average trip length (model):  19718.230884881137\n",
      "iteration:  283  coefficient:  -8.190874672862501e-05  average trip length (model):  19718.230884881137\n",
      "iteration:  284  coefficient:  -8.190874773818326e-05  average trip length (model):  19718.230884881137\n",
      "iteration:  285  coefficient:  -8.190874874774153e-05  average trip length (model):  19718.230884881137\n",
      "iteration:  286  coefficient:  -8.190874975729981e-05  average trip length (model):  19718.230884881137\n",
      "iteration:  287  coefficient:  -8.190875076685811e-05  average trip length (model):  19718.230884881137\n",
      "iteration:  288  coefficient:  -8.19087517764164e-05  average trip length (model):  19718.230884881137\n",
      "iteration:  289  coefficient:  -8.190875278597471e-05  average trip length (model):  19718.230884881137\n",
      "iteration:  290  coefficient:  -8.190875379553303e-05  average trip length (model):  19718.230884881137\n",
      "iteration:  291  coefficient:  -8.190875480509137e-05  average trip length (model):  19718.230884881137\n",
      "iteration:  292  coefficient:  -8.190875581464972e-05  average trip length (model):  19718.230884881137\n",
      "iteration:  293  coefficient:  -8.190875682420808e-05  average trip length (model):  19718.230884881137\n",
      "iteration:  294  coefficient:  -8.190875783376646e-05  average trip length (model):  19718.230884881137\n",
      "iteration:  295  coefficient:  -8.190875884332485e-05  average trip length (model):  19718.230884881137\n",
      "iteration:  296  coefficient:  -8.190875985288325e-05  average trip length (model):  19718.230884881137\n",
      "iteration:  297  coefficient:  -8.190876086244167e-05  average trip length (model):  19718.230884881137\n",
      "iteration:  298  coefficient:  -8.19087618720001e-05  average trip length (model):  19718.230884881137\n",
      "iteration:  299  coefficient:  -8.190876288155855e-05  average trip length (model):  19718.230884881137\n",
      "iteration:  300  coefficient:  -8.190876389111699e-05  average trip length (model):  19718.230884881137\n",
      "iteration:  301  coefficient:  -8.190876490067545e-05  average trip length (model):  19718.230884881137\n",
      "iteration:  302  coefficient:  -8.190876591023392e-05  average trip length (model):  19718.230884881137\n",
      "iteration:  303  coefficient:  -8.19087669197924e-05  average trip length (model):  19718.230884881137\n",
      "iteration:  304  coefficient:  -8.19087679293509e-05  average trip length (model):  19718.230884881137\n",
      "iteration:  305  coefficient:  -8.190876893890942e-05  average trip length (model):  19718.230884881137\n",
      "iteration:  306  coefficient:  -8.190876994846794e-05  average trip length (model):  19718.230884881137\n",
      "iteration:  307  coefficient:  -8.190877095802648e-05  average trip length (model):  19718.230884881137\n",
      "iteration:  308  coefficient:  -8.190877196758503e-05  average trip length (model):  19718.230884881137\n",
      "iteration:  309  coefficient:  -8.19087729771436e-05  average trip length (model):  19718.230884881137\n",
      "iteration:  310  coefficient:  -8.190877398670218e-05  average trip length (model):  19718.230884881137\n",
      "iteration:  311  coefficient:  -8.190877499626077e-05  average trip length (model):  19718.230884881137\n",
      "iteration:  312  coefficient:  -8.190877600581937e-05  average trip length (model):  19718.230884881137\n",
      "iteration:  313  coefficient:  -8.190877701537797e-05  average trip length (model):  19718.230884881137\n",
      "iteration:  314  coefficient:  -8.190877802493659e-05  average trip length (model):  19718.230884881137\n",
      "iteration:  315  coefficient:  -8.190877903449523e-05  average trip length (model):  19718.230884881137\n",
      "iteration:  316  coefficient:  -8.190878004405387e-05  average trip length (model):  19718.230884881137\n",
      "iteration:  317  coefficient:  -8.190878105361254e-05  average trip length (model):  19718.230884881137\n",
      "iteration:  318  coefficient:  -8.190878206317121e-05  average trip length (model):  19718.230884881137\n",
      "iteration:  319  coefficient:  -8.19087830727299e-05  average trip length (model):  19718.230884881137\n",
      "iteration:  320  coefficient:  -8.19087840822886e-05  average trip length (model):  19718.230884881137\n",
      "iteration:  321  coefficient:  -8.190878509184732e-05  average trip length (model):  19718.230884881137\n",
      "iteration:  322  coefficient:  -8.190878610140605e-05  average trip length (model):  19718.230884881137\n",
      "iteration:  323  coefficient:  -8.190878711096479e-05  average trip length (model):  19718.230884881137\n",
      "iteration:  324  coefficient:  -8.190878812052354e-05  average trip length (model):  19718.230884881137\n",
      "iteration:  325  coefficient:  -8.19087891300823e-05  average trip length (model):  19718.230884881137\n",
      "iteration:  326  coefficient:  -8.190879013964107e-05  average trip length (model):  19718.230884881137\n",
      "iteration:  327  coefficient:  -8.190879114919985e-05  average trip length (model):  19718.230884881137\n",
      "iteration:  328  coefficient:  -8.190879215875865e-05  average trip length (model):  19718.230884881137\n",
      "iteration:  329  coefficient:  -8.190879316831746e-05  average trip length (model):  19718.230884881137\n",
      "iteration:  330  coefficient:  -8.190879417787628e-05  average trip length (model):  19718.230884881137\n",
      "iteration:  331  coefficient:  -8.190879518743512e-05  average trip length (model):  19718.230884881137\n",
      "iteration:  332  coefficient:  -8.190879619699397e-05  average trip length (model):  19718.230884881137\n",
      "iteration:  333  coefficient:  -8.190879720655284e-05  average trip length (model):  19718.230884881137\n",
      "iteration:  334  coefficient:  -8.190879821611171e-05  average trip length (model):  19718.230884881137\n",
      "iteration:  335  coefficient:  -8.19087992256706e-05  average trip length (model):  19718.230884881137\n",
      "iteration:  336  coefficient:  -8.190880023522951e-05  average trip length (model):  19718.230884881137\n",
      "iteration:  337  coefficient:  -8.190880124478842e-05  average trip length (model):  19718.230884881137\n",
      "iteration:  338  coefficient:  -8.190880225434733e-05  average trip length (model):  19718.230884881137\n",
      "iteration:  339  coefficient:  -8.190880326390627e-05  average trip length (model):  19718.230884881137\n",
      "iteration:  340  coefficient:  -8.190880427346521e-05  average trip length (model):  19718.230884881137\n",
      "iteration:  341  coefficient:  -8.190880528302417e-05  average trip length (model):  19718.230884881137\n",
      "iteration:  342  coefficient:  -8.190880629258314e-05  average trip length (model):  19718.230884881137\n",
      "iteration:  343  coefficient:  -8.190880730214213e-05  average trip length (model):  19718.230884881137\n",
      "iteration:  344  coefficient:  -8.190880831170113e-05  average trip length (model):  19718.230884881137\n",
      "iteration:  345  coefficient:  -8.190880932126014e-05  average trip length (model):  19718.230884881137\n",
      "iteration:  346  coefficient:  -8.190881033081917e-05  average trip length (model):  19718.230884881137\n",
      "iteration:  347  coefficient:  -8.190881134037821e-05  average trip length (model):  19718.230884881137\n",
      "iteration:  348  coefficient:  -8.190881234993727e-05  average trip length (model):  19718.230884881137\n",
      "iteration:  349  coefficient:  -8.190881335949632e-05  average trip length (model):  19718.230884881137\n",
      "iteration:  350  coefficient:  -8.190881436905539e-05  average trip length (model):  19718.230884881137\n",
      "iteration:  351  coefficient:  -8.190881537861447e-05  average trip length (model):  19718.230884881137\n",
      "iteration:  352  coefficient:  -8.190881638817356e-05  average trip length (model):  19718.230884881137\n",
      "iteration:  353  coefficient:  -8.190881739773267e-05  average trip length (model):  19718.230884881137\n"
     ]
    },
    {
     "name": "stdout",
     "output_type": "stream",
     "text": [
      "iteration:  354  coefficient:  -8.19088184072918e-05  average trip length (model):  19718.230884881137\n",
      "iteration:  355  coefficient:  -8.190881941685093e-05  average trip length (model):  19718.230884881137\n",
      "iteration:  356  coefficient:  -8.190881557250633e-05  average trip length (model):  19718.2191998918\n",
      "iteration:  357  coefficient:  -8.190881658206542e-05  average trip length (model):  19718.230884881137\n",
      "iteration:  358  coefficient:  -8.190881759162453e-05  average trip length (model):  19718.230884881137\n",
      "iteration:  359  coefficient:  -8.190881860118365e-05  average trip length (model):  19718.230884881137\n",
      "iteration:  360  coefficient:  -8.190881961074279e-05  average trip length (model):  19718.230884881137\n",
      "iteration:  361  coefficient:  -8.190881576639817e-05  average trip length (model):  19718.2191998918\n",
      "iteration:  362  coefficient:  -8.190881677595728e-05  average trip length (model):  19718.230884881137\n",
      "iteration:  363  coefficient:  -8.190881778551639e-05  average trip length (model):  19718.230884881137\n",
      "iteration:  364  coefficient:  -8.190881879507551e-05  average trip length (model):  19718.230884881137\n",
      "iteration:  365  coefficient:  -8.190881495073094e-05  average trip length (model):  19718.2191998918\n",
      "iteration:  366  coefficient:  -8.190881596029003e-05  average trip length (model):  19718.230884881137\n",
      "iteration:  367  coefficient:  -8.190881696984914e-05  average trip length (model):  19718.230884881137\n",
      "iteration:  368  coefficient:  -8.190881797940826e-05  average trip length (model):  19718.230884881137\n",
      "iteration:  369  coefficient:  -8.19088189889674e-05  average trip length (model):  19718.230884881137\n",
      "iteration:  370  coefficient:  -8.190881514462281e-05  average trip length (model):  19718.2191998918\n",
      "iteration:  371  coefficient:  -8.19088161541819e-05  average trip length (model):  19718.230884881137\n",
      "iteration:  372  coefficient:  -8.190881716374101e-05  average trip length (model):  19718.230884881137\n",
      "iteration:  373  coefficient:  -8.190881817330014e-05  average trip length (model):  19718.230884881137\n",
      "iteration:  374  coefficient:  -8.190881918285927e-05  average trip length (model):  19718.230884881137\n",
      "iteration:  375  coefficient:  -8.190881533851467e-05  average trip length (model):  19718.2191998918\n",
      "iteration:  376  coefficient:  -8.190881634807376e-05  average trip length (model):  19718.230884881137\n",
      "iteration:  377  coefficient:  -8.190881735763287e-05  average trip length (model):  19718.230884881137\n",
      "iteration:  378  coefficient:  -8.1908818367192e-05  average trip length (model):  19718.230884881137\n",
      "iteration:  379  coefficient:  -8.190881937675113e-05  average trip length (model):  19718.230884881137\n",
      "iteration:  380  coefficient:  -8.190881553240653e-05  average trip length (model):  19718.2191998918\n",
      "iteration:  381  coefficient:  -8.190881654196562e-05  average trip length (model):  19718.230884881137\n",
      "iteration:  382  coefficient:  -8.190881755152473e-05  average trip length (model):  19718.230884881137\n",
      "iteration:  383  coefficient:  -8.190881856108385e-05  average trip length (model):  19718.230884881137\n",
      "iteration:  384  coefficient:  -8.190881957064299e-05  average trip length (model):  19718.230884881137\n",
      "iteration:  385  coefficient:  -8.190881572629837e-05  average trip length (model):  19718.2191998918\n",
      "iteration:  386  coefficient:  -8.190881673585748e-05  average trip length (model):  19718.230884881137\n",
      "iteration:  387  coefficient:  -8.190881774541659e-05  average trip length (model):  19718.230884881137\n",
      "iteration:  388  coefficient:  -8.190881875497571e-05  average trip length (model):  19718.230884881137\n",
      "iteration:  389  coefficient:  -8.190881491063114e-05  average trip length (model):  19718.2191998918\n",
      "iteration:  390  coefficient:  -8.190881592019023e-05  average trip length (model):  19718.230884881137\n",
      "iteration:  391  coefficient:  -8.190881692974934e-05  average trip length (model):  19718.230884881137\n",
      "iteration:  392  coefficient:  -8.190881793930846e-05  average trip length (model):  19718.230884881137\n",
      "iteration:  393  coefficient:  -8.19088189488676e-05  average trip length (model):  19718.230884881137\n",
      "iteration:  394  coefficient:  -8.190881510452301e-05  average trip length (model):  19718.2191998918\n",
      "iteration:  395  coefficient:  -8.19088161140821e-05  average trip length (model):  19718.230884881137\n",
      "iteration:  396  coefficient:  -8.190881712364121e-05  average trip length (model):  19718.230884881137\n",
      "iteration:  397  coefficient:  -8.190881813320034e-05  average trip length (model):  19718.230884881137\n",
      "iteration:  398  coefficient:  -8.190881914275947e-05  average trip length (model):  19718.230884881137\n",
      "iteration:  399  coefficient:  -8.190881529841488e-05  average trip length (model):  19718.2191998918\n",
      "iteration:  400  coefficient:  -8.190881630797398e-05  average trip length (model):  19718.230884881137\n",
      "iteration:  401  coefficient:  -8.190881731753309e-05  average trip length (model):  19718.230884881137\n",
      "iteration:  402  coefficient:  -8.190881832709221e-05  average trip length (model):  19718.230884881137\n",
      "iteration:  403  coefficient:  -8.190881933665134e-05  average trip length (model):  19718.230884881137\n",
      "iteration:  404  coefficient:  -8.190881549230674e-05  average trip length (model):  19718.2191998918\n",
      "iteration:  405  coefficient:  -8.190881650186584e-05  average trip length (model):  19718.230884881137\n",
      "iteration:  406  coefficient:  -8.190881751142495e-05  average trip length (model):  19718.230884881137\n",
      "iteration:  407  coefficient:  -8.190881852098407e-05  average trip length (model):  19718.230884881137\n",
      "iteration:  408  coefficient:  -8.19088195305432e-05  average trip length (model):  19718.230884881137\n",
      "iteration:  409  coefficient:  -8.190881568619859e-05  average trip length (model):  19718.2191998918\n",
      "iteration:  410  coefficient:  -8.190881669575768e-05  average trip length (model):  19718.230884881137\n",
      "iteration:  411  coefficient:  -8.190881770531679e-05  average trip length (model):  19718.230884881137\n",
      "iteration:  412  coefficient:  -8.190881871487591e-05  average trip length (model):  19718.230884881137\n",
      "iteration:  413  coefficient:  -8.190881487053134e-05  average trip length (model):  19718.2191998918\n",
      "iteration:  414  coefficient:  -8.190881588009043e-05  average trip length (model):  19718.230884881137\n",
      "iteration:  415  coefficient:  -8.190881688964954e-05  average trip length (model):  19718.230884881137\n",
      "iteration:  416  coefficient:  -8.190881789920866e-05  average trip length (model):  19718.230884881137\n",
      "iteration:  417  coefficient:  -8.19088189087678e-05  average trip length (model):  19718.230884881137\n",
      "iteration:  418  coefficient:  -8.190881506442321e-05  average trip length (model):  19718.2191998918\n",
      "iteration:  419  coefficient:  -8.19088160739823e-05  average trip length (model):  19718.230884881137\n",
      "iteration:  420  coefficient:  -8.190881708354141e-05  average trip length (model):  19718.230884881137\n",
      "iteration:  421  coefficient:  -8.190881809310054e-05  average trip length (model):  19718.230884881137\n",
      "iteration:  422  coefficient:  -8.190881910265967e-05  average trip length (model):  19718.230884881137\n",
      "iteration:  423  coefficient:  -8.190881525831508e-05  average trip length (model):  19718.2191998918\n",
      "iteration:  424  coefficient:  -8.190881626787418e-05  average trip length (model):  19718.230884881137\n",
      "iteration:  425  coefficient:  -8.190881727743329e-05  average trip length (model):  19718.230884881137\n",
      "iteration:  426  coefficient:  -8.190881828699241e-05  average trip length (model):  19718.230884881137\n",
      "iteration:  427  coefficient:  -8.190881929655154e-05  average trip length (model):  19718.230884881137\n",
      "iteration:  428  coefficient:  -8.190881545220694e-05  average trip length (model):  19718.2191998918\n",
      "iteration:  429  coefficient:  -8.190881646176604e-05  average trip length (model):  19718.230884881137\n",
      "iteration:  430  coefficient:  -8.190881747132515e-05  average trip length (model):  19718.230884881137\n",
      "iteration:  431  coefficient:  -8.190881848088427e-05  average trip length (model):  19718.230884881137\n",
      "iteration:  432  coefficient:  -8.19088194904434e-05  average trip length (model):  19718.230884881137\n",
      "iteration:  433  coefficient:  -8.190881564609879e-05  average trip length (model):  19718.2191998918\n",
      "iteration:  434  coefficient:  -8.190881665565788e-05  average trip length (model):  19718.230884881137\n",
      "iteration:  435  coefficient:  -8.190881766521699e-05  average trip length (model):  19718.230884881137\n",
      "iteration:  436  coefficient:  -8.190881867477611e-05  average trip length (model):  19718.230884881137\n",
      "iteration:  437  coefficient:  -8.190881483043154e-05  average trip length (model):  19718.2191998918\n",
      "iteration:  438  coefficient:  -8.190881583999063e-05  average trip length (model):  19718.230884881137\n",
      "iteration:  439  coefficient:  -8.190881684954974e-05  average trip length (model):  19718.230884881137\n",
      "iteration:  440  coefficient:  -8.190881785910886e-05  average trip length (model):  19718.230884881137\n",
      "iteration:  441  coefficient:  -8.190881886866798e-05  average trip length (model):  19718.230884881137\n",
      "iteration:  442  coefficient:  -8.190881502432341e-05  average trip length (model):  19718.2191998918\n",
      "iteration:  443  coefficient:  -8.19088160338825e-05  average trip length (model):  19718.230884881137\n",
      "iteration:  444  coefficient:  -8.190881704344161e-05  average trip length (model):  19718.230884881137\n",
      "iteration:  445  coefficient:  -8.190881805300074e-05  average trip length (model):  19718.230884881137\n",
      "iteration:  446  coefficient:  -8.190881906255987e-05  average trip length (model):  19718.230884881137\n",
      "iteration:  447  coefficient:  -8.190881521821528e-05  average trip length (model):  19718.2191998918\n",
      "iteration:  448  coefficient:  -8.190881622777438e-05  average trip length (model):  19718.230884881137\n",
      "iteration:  449  coefficient:  -8.190881723733349e-05  average trip length (model):  19718.230884881137\n",
      "iteration:  450  coefficient:  -8.190881824689261e-05  average trip length (model):  19718.230884881137\n",
      "iteration:  451  coefficient:  -8.190881925645174e-05  average trip length (model):  19718.230884881137\n",
      "iteration:  452  coefficient:  -8.190881541210714e-05  average trip length (model):  19718.2191998918\n",
      "iteration:  453  coefficient:  -8.190881642166624e-05  average trip length (model):  19718.230884881137\n",
      "iteration:  454  coefficient:  -8.190881743122534e-05  average trip length (model):  19718.230884881137\n",
      "iteration:  455  coefficient:  -8.190881844078447e-05  average trip length (model):  19718.230884881137\n",
      "iteration:  456  coefficient:  -8.19088194503436e-05  average trip length (model):  19718.230884881137\n",
      "iteration:  457  coefficient:  -8.1908815605999e-05  average trip length (model):  19718.2191998918\n",
      "iteration:  458  coefficient:  -8.19088166155581e-05  average trip length (model):  19718.230884881137\n",
      "iteration:  459  coefficient:  -8.19088176251172e-05  average trip length (model):  19718.230884881137\n",
      "iteration:  460  coefficient:  -8.190881863467633e-05  average trip length (model):  19718.230884881137\n",
      "iteration:  461  coefficient:  -8.190881479033175e-05  average trip length (model):  19718.2191998918\n",
      "iteration:  462  coefficient:  -8.190881579989085e-05  average trip length (model):  19718.230884881137\n",
      "iteration:  463  coefficient:  -8.190881680944995e-05  average trip length (model):  19718.230884881137\n",
      "iteration:  464  coefficient:  -8.190881781900908e-05  average trip length (model):  19718.230884881137\n",
      "iteration:  465  coefficient:  -8.19088188285682e-05  average trip length (model):  19718.230884881137\n",
      "iteration:  466  coefficient:  -8.190881498422362e-05  average trip length (model):  19718.2191998918\n",
      "iteration:  467  coefficient:  -8.190881599378272e-05  average trip length (model):  19718.230884881137\n",
      "iteration:  468  coefficient:  -8.190881700334183e-05  average trip length (model):  19718.230884881137\n",
      "iteration:  469  coefficient:  -8.190881801290095e-05  average trip length (model):  19718.230884881137\n",
      "iteration:  470  coefficient:  -8.190881902246008e-05  average trip length (model):  19718.230884881137\n",
      "iteration:  471  coefficient:  -8.19088151781155e-05  average trip length (model):  19718.2191998918\n",
      "iteration:  472  coefficient:  -8.190881618767459e-05  average trip length (model):  19718.230884881137\n",
      "iteration:  473  coefficient:  -8.19088171972337e-05  average trip length (model):  19718.230884881137\n",
      "iteration:  474  coefficient:  -8.190881820679282e-05  average trip length (model):  19718.230884881137\n",
      "iteration:  475  coefficient:  -8.190881921635196e-05  average trip length (model):  19718.230884881137\n",
      "iteration:  476  coefficient:  -8.190881537200736e-05  average trip length (model):  19718.2191998918\n",
      "iteration:  477  coefficient:  -8.190881638156645e-05  average trip length (model):  19718.230884881137\n",
      "iteration:  478  coefficient:  -8.190881739112556e-05  average trip length (model):  19718.230884881137\n",
      "iteration:  479  coefficient:  -8.190881840068468e-05  average trip length (model):  19718.230884881137\n",
      "iteration:  480  coefficient:  -8.190881941024382e-05  average trip length (model):  19718.230884881137\n",
      "iteration:  481  coefficient:  -8.190881556589921e-05  average trip length (model):  19718.2191998918\n"
     ]
    },
    {
     "name": "stdout",
     "output_type": "stream",
     "text": [
      "iteration:  482  coefficient:  -8.190881657545831e-05  average trip length (model):  19718.230884881137\n",
      "iteration:  483  coefficient:  -8.190881758501742e-05  average trip length (model):  19718.230884881137\n",
      "iteration:  484  coefficient:  -8.190881859457654e-05  average trip length (model):  19718.230884881137\n",
      "iteration:  485  coefficient:  -8.190881960413567e-05  average trip length (model):  19718.230884881137\n",
      "iteration:  486  coefficient:  -8.190881575979106e-05  average trip length (model):  19718.2191998918\n",
      "iteration:  487  coefficient:  -8.190881676935017e-05  average trip length (model):  19718.230884881137\n",
      "iteration:  488  coefficient:  -8.190881777890928e-05  average trip length (model):  19718.230884881137\n",
      "iteration:  489  coefficient:  -8.19088187884684e-05  average trip length (model):  19718.230884881137\n",
      "iteration:  490  coefficient:  -8.190881494412382e-05  average trip length (model):  19718.2191998918\n",
      "iteration:  491  coefficient:  -8.190881595368292e-05  average trip length (model):  19718.230884881137\n",
      "iteration:  492  coefficient:  -8.190881696324203e-05  average trip length (model):  19718.230884881137\n",
      "iteration:  493  coefficient:  -8.190881797280115e-05  average trip length (model):  19718.230884881137\n",
      "iteration:  494  coefficient:  -8.190881898236028e-05  average trip length (model):  19718.230884881137\n",
      "iteration:  495  coefficient:  -8.19088151380157e-05  average trip length (model):  19718.2191998918\n",
      "iteration:  496  coefficient:  -8.190881614757479e-05  average trip length (model):  19718.230884881137\n",
      "iteration:  497  coefficient:  -8.19088171571339e-05  average trip length (model):  19718.230884881137\n",
      "iteration:  498  coefficient:  -8.190881816669302e-05  average trip length (model):  19718.230884881137\n",
      "iteration:  499  coefficient:  -8.190881917625216e-05  average trip length (model):  19718.230884881137\n",
      "target average trip length (observed):  19718.22845453004\n",
      "final average trip length (model):  19718.230884881137\n",
      "final logit scaling factor:  -8.190881917625216e-05\n"
     ]
    }
   ],
   "source": [
    "prodA = pred_prod_sams.values.flatten()\n",
    "attrA = pred_attr_sams.values.flatten()\n",
    "f = sams_distance_matrix.values\n",
    "c=-0.00001\n",
    "c2 = 0.000000005\n",
    "cost_matrix = np.power(f, c2) * np.exp(c*f)\n",
    "num_iter=10\n",
    "num_iter_cal = 500\n",
    "mtl = rvu_mtl\n",
    "num_zones = len(prodA)\n",
    "alpha = 0.1\n",
    "f = f\n",
    "\n",
    "trips = np.zeros((num_zones, num_zones))\n",
    "print('Checking production, attraction balancing:')\n",
    "sumP = sum(prodA)\n",
    "sumA = sum(attrA)\n",
    "print('Production: ', sumP)\n",
    "print('Attraction: ', sumA)\n",
    "if sumP != sumA:\n",
    "    print('Productions and attractions do not balance, attractions will be scaled to productions!')\n",
    "    attrA = attrA * (sumP / sumA)\n",
    "    attrT = attrA.copy()\n",
    "    prodT = prodA.copy()\n",
    "else:\n",
    "    print('Production, attraction balancing OK.')\n",
    "    attrT = attrA.copy()\n",
    "    prodT = prodA.copy()\n",
    "\n",
    "trips = cost_matrix\n",
    "#Run 2D balancing --->\n",
    "computed_attractions = trips.sum(0)\n",
    "computed_attractions[computed_attractions==0]=1\n",
    "trips = trips * (attrT / computed_attractions)\n",
    "trips = trips.round(0)\n",
    "\n",
    "computed_productions = trips.sum(1)\n",
    "computed_productions[computed_productions==0]=1\n",
    "trips = trips * np.reshape((prodT / computed_productions),[len(prodT),1])\n",
    "trips = trips.round(0)\n",
    "\n",
    "for Iter in range(0, num_iter_cal):\n",
    "\n",
    "    model_trip_len = (trips * f).sum() / trips.sum()\n",
    "    c = c*(model_trip_len / mtl)**alpha\n",
    "    cost_matrix = np.power(f, c2) * np.exp(c * f)\n",
    "    for _ in range(0, num_iter):\n",
    "        trips = cost_matrix\n",
    "        #Run 2D balancing --->\n",
    "        computed_attractions = trips.sum(0)\n",
    "        computed_attractions[computed_attractions==0]=1\n",
    "        trips = trips * (attrT / computed_attractions)\n",
    "        trips = trips.round(0)\n",
    "\n",
    "        computed_productions = trips.sum(1)\n",
    "        computed_productions[computed_productions==0]=1\n",
    "        trips = trips * np.reshape((prodT / computed_productions),[len(prodT),1])\n",
    "        trips = trips.round(0)\n",
    "    print ('iteration: ', Iter, ' coefficient: ', c, ' average trip length (model): ', model_trip_len)\n",
    "\n",
    "print ('target average trip length (observed): ', mtl) \n",
    "print ('final average trip length (model): ', model_trip_len)\n",
    "print ('final logit scaling factor: ', c)"
   ]
  },
  {
   "cell_type": "code",
   "execution_count": 342,
   "metadata": {},
   "outputs": [
    {
     "data": {
      "text/html": [
       "<div>\n",
       "<style scoped>\n",
       "    .dataframe tbody tr th:only-of-type {\n",
       "        vertical-align: middle;\n",
       "    }\n",
       "\n",
       "    .dataframe tbody tr th {\n",
       "        vertical-align: top;\n",
       "    }\n",
       "\n",
       "    .dataframe thead th {\n",
       "        text-align: right;\n",
       "    }\n",
       "</style>\n",
       "<table border=\"1\" class=\"dataframe\">\n",
       "  <thead>\n",
       "    <tr style=\"text-align: right;\">\n",
       "      <th></th>\n",
       "      <th>1214</th>\n",
       "      <th>1230</th>\n",
       "      <th>1231</th>\n",
       "      <th>1233</th>\n",
       "      <th>1256</th>\n",
       "      <th>1257</th>\n",
       "      <th>1260</th>\n",
       "      <th>1261</th>\n",
       "      <th>1262</th>\n",
       "      <th>1263</th>\n",
       "      <th>...</th>\n",
       "      <th>12700011</th>\n",
       "      <th>12700012</th>\n",
       "      <th>12700013</th>\n",
       "      <th>12700014</th>\n",
       "      <th>12700015</th>\n",
       "      <th>12700016</th>\n",
       "      <th>12700017</th>\n",
       "      <th>12700018</th>\n",
       "      <th>12700019</th>\n",
       "      <th>12700020</th>\n",
       "    </tr>\n",
       "  </thead>\n",
       "  <tbody>\n",
       "    <tr>\n",
       "      <th>1214</th>\n",
       "      <td>982</td>\n",
       "      <td>16</td>\n",
       "      <td>24</td>\n",
       "      <td>15</td>\n",
       "      <td>3</td>\n",
       "      <td>6</td>\n",
       "      <td>188</td>\n",
       "      <td>610</td>\n",
       "      <td>111</td>\n",
       "      <td>8</td>\n",
       "      <td>...</td>\n",
       "      <td>0</td>\n",
       "      <td>0</td>\n",
       "      <td>0</td>\n",
       "      <td>0</td>\n",
       "      <td>0</td>\n",
       "      <td>0</td>\n",
       "      <td>0</td>\n",
       "      <td>0</td>\n",
       "      <td>0</td>\n",
       "      <td>0</td>\n",
       "    </tr>\n",
       "    <tr>\n",
       "      <th>1230</th>\n",
       "      <td>17</td>\n",
       "      <td>820</td>\n",
       "      <td>560</td>\n",
       "      <td>485</td>\n",
       "      <td>1</td>\n",
       "      <td>0</td>\n",
       "      <td>2</td>\n",
       "      <td>205</td>\n",
       "      <td>313</td>\n",
       "      <td>245</td>\n",
       "      <td>...</td>\n",
       "      <td>0</td>\n",
       "      <td>0</td>\n",
       "      <td>0</td>\n",
       "      <td>0</td>\n",
       "      <td>0</td>\n",
       "      <td>0</td>\n",
       "      <td>0</td>\n",
       "      <td>0</td>\n",
       "      <td>0</td>\n",
       "      <td>0</td>\n",
       "    </tr>\n",
       "    <tr>\n",
       "      <th>1231</th>\n",
       "      <td>15</td>\n",
       "      <td>342</td>\n",
       "      <td>390</td>\n",
       "      <td>307</td>\n",
       "      <td>0</td>\n",
       "      <td>0</td>\n",
       "      <td>2</td>\n",
       "      <td>182</td>\n",
       "      <td>279</td>\n",
       "      <td>155</td>\n",
       "      <td>...</td>\n",
       "      <td>0</td>\n",
       "      <td>0</td>\n",
       "      <td>0</td>\n",
       "      <td>0</td>\n",
       "      <td>0</td>\n",
       "      <td>0</td>\n",
       "      <td>0</td>\n",
       "      <td>0</td>\n",
       "      <td>0</td>\n",
       "      <td>0</td>\n",
       "    </tr>\n",
       "    <tr>\n",
       "      <th>1233</th>\n",
       "      <td>6</td>\n",
       "      <td>214</td>\n",
       "      <td>199</td>\n",
       "      <td>5228</td>\n",
       "      <td>0</td>\n",
       "      <td>0</td>\n",
       "      <td>1</td>\n",
       "      <td>73</td>\n",
       "      <td>111</td>\n",
       "      <td>300</td>\n",
       "      <td>...</td>\n",
       "      <td>0</td>\n",
       "      <td>0</td>\n",
       "      <td>0</td>\n",
       "      <td>0</td>\n",
       "      <td>0</td>\n",
       "      <td>0</td>\n",
       "      <td>0</td>\n",
       "      <td>0</td>\n",
       "      <td>0</td>\n",
       "      <td>0</td>\n",
       "    </tr>\n",
       "    <tr>\n",
       "      <th>1256</th>\n",
       "      <td>0</td>\n",
       "      <td>0</td>\n",
       "      <td>0</td>\n",
       "      <td>0</td>\n",
       "      <td>1091</td>\n",
       "      <td>19</td>\n",
       "      <td>1</td>\n",
       "      <td>0</td>\n",
       "      <td>0</td>\n",
       "      <td>0</td>\n",
       "      <td>...</td>\n",
       "      <td>0</td>\n",
       "      <td>0</td>\n",
       "      <td>0</td>\n",
       "      <td>0</td>\n",
       "      <td>0</td>\n",
       "      <td>0</td>\n",
       "      <td>0</td>\n",
       "      <td>0</td>\n",
       "      <td>0</td>\n",
       "      <td>0</td>\n",
       "    </tr>\n",
       "  </tbody>\n",
       "</table>\n",
       "<p>5 rows × 68 columns</p>\n",
       "</div>"
      ],
      "text/plain": [
       "      1214      1230      1231      1233      1256      1257      1260      \\\n",
       "1214       982        16        24        15         3         6       188   \n",
       "1230        17       820       560       485         1         0         2   \n",
       "1231        15       342       390       307         0         0         2   \n",
       "1233         6       214       199      5228         0         0         1   \n",
       "1256         0         0         0         0      1091        19         1   \n",
       "\n",
       "      1261      1262      1263      ...  12700011  12700012  12700013  \\\n",
       "1214       610       111         8  ...         0         0         0   \n",
       "1230       205       313       245  ...         0         0         0   \n",
       "1231       182       279       155  ...         0         0         0   \n",
       "1233        73       111       300  ...         0         0         0   \n",
       "1256         0         0         0  ...         0         0         0   \n",
       "\n",
       "      12700014  12700015  12700016  12700017  12700018  12700019  12700020  \n",
       "1214         0         0         0         0         0         0         0  \n",
       "1230         0         0         0         0         0         0         0  \n",
       "1231         0         0         0         0         0         0         0  \n",
       "1233         0         0         0         0         0         0         0  \n",
       "1256         0         0         0         0         0         0         0  \n",
       "\n",
       "[5 rows x 68 columns]"
      ]
     },
     "execution_count": 342,
     "metadata": {},
     "output_type": "execute_result"
    }
   ],
   "source": [
    "# trips = pd.DataFrame(Trips1, columns=sams_distance_matrix.index, index=sams_distance_matrix.index)\n",
    "# trips.head()\n",
    "trips = pd.DataFrame(trips.astype(int), columns=sams_distance_matrix.index, index=sams_distance_matrix.index)\n",
    "trips.head()"
   ]
  },
  {
   "cell_type": "code",
   "execution_count": 343,
   "metadata": {},
   "outputs": [
    {
     "data": {
      "text/plain": [
       "19718.219199891795"
      ]
     },
     "execution_count": 343,
     "metadata": {},
     "output_type": "execute_result"
    }
   ],
   "source": [
    "(trips*f).sum().sum() / trips.sum().sum()"
   ]
  },
  {
   "cell_type": "code",
   "execution_count": 344,
   "metadata": {},
   "outputs": [
    {
     "data": {
      "text/plain": [
       "590246"
      ]
     },
     "execution_count": 344,
     "metadata": {},
     "output_type": "execute_result"
    }
   ],
   "source": [
    "trips.sum().sum()"
   ]
  },
  {
   "cell_type": "code",
   "execution_count": 345,
   "metadata": {},
   "outputs": [
    {
     "data": {
      "text/plain": [
       "predicted_production    590363.596526\n",
       "dtype: float64"
      ]
     },
     "execution_count": 345,
     "metadata": {},
     "output_type": "execute_result"
    }
   ],
   "source": [
    "pred_prod_sams.sum()"
   ]
  },
  {
   "cell_type": "markdown",
   "metadata": {},
   "source": [
    "### All trips after gravity vs predicted attraction / production"
   ]
  },
  {
   "cell_type": "code",
   "execution_count": 365,
   "metadata": {},
   "outputs": [
    {
     "data": {
      "text/plain": [
       "1188"
      ]
     },
     "execution_count": 365,
     "metadata": {},
     "output_type": "execute_result"
    }
   ],
   "source": [
    "trips.loc[12650001:12659999, 1280].sum().sum()"
   ]
  },
  {
   "cell_type": "code",
   "execution_count": 354,
   "metadata": {},
   "outputs": [
    {
     "data": {
      "text/plain": [
       "2599"
      ]
     },
     "execution_count": 354,
     "metadata": {},
     "output_type": "execute_result"
    }
   ],
   "source": [
    "trips.loc[:, 12650001:12659999].sum().sum()"
   ]
  },
  {
   "cell_type": "code",
   "execution_count": 358,
   "metadata": {},
   "outputs": [
    {
     "data": {
      "text/plain": [
       "1206"
      ]
     },
     "execution_count": 358,
     "metadata": {},
     "output_type": "execute_result"
    }
   ],
   "source": [
    "trips.loc[12650001:12659999, 12650001:12659999].sum().sum()"
   ]
  },
  {
   "cell_type": "code",
   "execution_count": 359,
   "metadata": {},
   "outputs": [
    {
     "data": {
      "text/plain": [
       "1771"
      ]
     },
     "execution_count": 359,
     "metadata": {},
     "output_type": "execute_result"
    }
   ],
   "source": [
    "trips.loc[:, 12700001:12709999].sum().sum()"
   ]
  },
  {
   "cell_type": "code",
   "execution_count": 360,
   "metadata": {},
   "outputs": [
    {
     "data": {
      "text/plain": [
       "959"
      ]
     },
     "execution_count": 360,
     "metadata": {},
     "output_type": "execute_result"
    }
   ],
   "source": [
    "trips.loc[12700001:12709999, 12700001:12709999].sum().sum()"
   ]
  },
  {
   "cell_type": "code",
   "execution_count": null,
   "metadata": {},
   "outputs": [],
   "source": []
  },
  {
   "cell_type": "code",
   "execution_count": 361,
   "metadata": {},
   "outputs": [
    {
     "data": {
      "text/plain": [
       "predicted_attraction    6076.818847\n",
       "dtype: float64"
      ]
     },
     "execution_count": 361,
     "metadata": {},
     "output_type": "execute_result"
    }
   ],
   "source": [
    "pred_attr_sams.loc[12650001:12659999].sum()"
   ]
  },
  {
   "cell_type": "code",
   "execution_count": 366,
   "metadata": {},
   "outputs": [
    {
     "data": {
      "text/plain": [
       "KOMMUN\n",
       "1214     3315.0\n",
       "1230     5433.0\n",
       "1231     7766.0\n",
       "1233     7733.0\n",
       "1256     3928.0\n",
       "1257     3585.0\n",
       "1260     4402.0\n",
       "1261     6946.0\n",
       "1262     5087.0\n",
       "1263     4762.0\n",
       "1264     3590.0\n",
       "1266     4973.0\n",
       "1267     4312.0\n",
       "1272     4244.0\n",
       "1273     4189.0\n",
       "1275     2914.0\n",
       "1276     5084.0\n",
       "1277     5341.0\n",
       "1278     6045.0\n",
       "1282    13589.0\n",
       "1284     7408.0\n",
       "1285    10103.0\n",
       "1286    11301.0\n",
       "1287    12314.0\n",
       "1291     6712.0\n",
       "Name: TotaltA4, dtype: float64"
      ]
     },
     "execution_count": 366,
     "metadata": {},
     "output_type": "execute_result"
    }
   ],
   "source": [
    "y_att"
   ]
  },
  {
   "cell_type": "code",
   "execution_count": 362,
   "metadata": {},
   "outputs": [
    {
     "data": {
      "text/plain": [
       "8974"
      ]
     },
     "execution_count": 362,
     "metadata": {},
     "output_type": "execute_result"
    }
   ],
   "source": [
    "trips.loc[12650001:12659999, :].sum().sum()"
   ]
  },
  {
   "cell_type": "code",
   "execution_count": 363,
   "metadata": {},
   "outputs": [
    {
     "data": {
      "text/plain": [
       "predicted_production    9014.80897\n",
       "dtype: float64"
      ]
     },
     "execution_count": 363,
     "metadata": {},
     "output_type": "execute_result"
    }
   ],
   "source": [
    "pred_prod_sams.loc[12650001:12659999].sum()"
   ]
  },
  {
   "cell_type": "code",
   "execution_count": 364,
   "metadata": {},
   "outputs": [
    {
     "data": {
      "text/plain": [
       "152270"
      ]
     },
     "execution_count": 364,
     "metadata": {},
     "output_type": "execute_result"
    }
   ],
   "source": [
    "trips.loc[1280, :].sum()"
   ]
  },
  {
   "cell_type": "code",
   "execution_count": 351,
   "metadata": {},
   "outputs": [
    {
     "data": {
      "text/plain": [
       "152271.64479853172"
      ]
     },
     "execution_count": 351,
     "metadata": {},
     "output_type": "execute_result"
    }
   ],
   "source": [
    "pred_prod_sams.loc[1280].sum()"
   ]
  },
  {
   "cell_type": "code",
   "execution_count": 352,
   "metadata": {},
   "outputs": [
    {
     "data": {
      "text/plain": [
       "161667"
      ]
     },
     "execution_count": 352,
     "metadata": {},
     "output_type": "execute_result"
    }
   ],
   "source": [
    "trips.loc[:, 1280].sum()"
   ]
  },
  {
   "cell_type": "code",
   "execution_count": 353,
   "metadata": {},
   "outputs": [
    {
     "data": {
      "text/plain": [
       "59409.901863245155"
      ]
     },
     "execution_count": 353,
     "metadata": {},
     "output_type": "execute_result"
    }
   ],
   "source": [
    "pred_attr_sams.loc[1280].sum()"
   ]
  },
  {
   "cell_type": "markdown",
   "metadata": {},
   "source": [
    "### All trips within Sjöbo"
   ]
  },
  {
   "cell_type": "code",
   "execution_count": 235,
   "metadata": {},
   "outputs": [
    {
     "data": {
      "text/plain": [
       "532"
      ]
     },
     "execution_count": 235,
     "metadata": {},
     "output_type": "execute_result"
    }
   ],
   "source": [
    "trips.loc[12650001:12659999, 12650001:12659999].sum().sum()"
   ]
  },
  {
   "cell_type": "markdown",
   "metadata": {},
   "source": [
    "### Testing stuff Fratar with and without mean trip length adjustments (but not really)"
   ]
  },
  {
   "cell_type": "code",
   "execution_count": 177,
   "metadata": {},
   "outputs": [
    {
     "data": {
      "text/html": [
       "<div>\n",
       "<style scoped>\n",
       "    .dataframe tbody tr th:only-of-type {\n",
       "        vertical-align: middle;\n",
       "    }\n",
       "\n",
       "    .dataframe tbody tr th {\n",
       "        vertical-align: top;\n",
       "    }\n",
       "\n",
       "    .dataframe thead th {\n",
       "        text-align: right;\n",
       "    }\n",
       "</style>\n",
       "<table border=\"1\" class=\"dataframe\">\n",
       "  <thead>\n",
       "    <tr style=\"text-align: right;\">\n",
       "      <th></th>\n",
       "      <th>1214</th>\n",
       "      <th>1230</th>\n",
       "      <th>1231</th>\n",
       "      <th>1233</th>\n",
       "      <th>1256</th>\n",
       "      <th>1257</th>\n",
       "      <th>1260</th>\n",
       "      <th>1261</th>\n",
       "      <th>1262</th>\n",
       "      <th>1263</th>\n",
       "      <th>...</th>\n",
       "      <th>12700011</th>\n",
       "      <th>12700012</th>\n",
       "      <th>12700013</th>\n",
       "      <th>12700014</th>\n",
       "      <th>12700015</th>\n",
       "      <th>12700016</th>\n",
       "      <th>12700017</th>\n",
       "      <th>12700018</th>\n",
       "      <th>12700019</th>\n",
       "      <th>12700020</th>\n",
       "    </tr>\n",
       "  </thead>\n",
       "  <tbody>\n",
       "    <tr>\n",
       "      <th>1214</th>\n",
       "      <td>1019.285439</td>\n",
       "      <td>22.706772</td>\n",
       "      <td>25.505472</td>\n",
       "      <td>8.707495</td>\n",
       "      <td>0.426708</td>\n",
       "      <td>1.803812</td>\n",
       "      <td>125.387297</td>\n",
       "      <td>695.856038</td>\n",
       "      <td>104.337894</td>\n",
       "      <td>8.518713</td>\n",
       "      <td>...</td>\n",
       "      <td>0.002258</td>\n",
       "      <td>0.000897</td>\n",
       "      <td>-0.005382</td>\n",
       "      <td>-0.000904</td>\n",
       "      <td>-0.006108</td>\n",
       "      <td>0.012009</td>\n",
       "      <td>-0.000522</td>\n",
       "      <td>-0.000201</td>\n",
       "      <td>-0.000276</td>\n",
       "      <td>-0.001185</td>\n",
       "    </tr>\n",
       "    <tr>\n",
       "      <th>1230</th>\n",
       "      <td>11.492826</td>\n",
       "      <td>766.658626</td>\n",
       "      <td>405.714804</td>\n",
       "      <td>193.021291</td>\n",
       "      <td>0.072208</td>\n",
       "      <td>0.134482</td>\n",
       "      <td>0.909113</td>\n",
       "      <td>157.057692</td>\n",
       "      <td>198.412104</td>\n",
       "      <td>188.836531</td>\n",
       "      <td>...</td>\n",
       "      <td>0.025146</td>\n",
       "      <td>0.009987</td>\n",
       "      <td>-0.008089</td>\n",
       "      <td>-0.010072</td>\n",
       "      <td>-0.015338</td>\n",
       "      <td>0.054421</td>\n",
       "      <td>-0.005809</td>\n",
       "      <td>-0.004456</td>\n",
       "      <td>-0.006112</td>\n",
       "      <td>-0.013199</td>\n",
       "    </tr>\n",
       "    <tr>\n",
       "      <th>1231</th>\n",
       "      <td>10.374313</td>\n",
       "      <td>322.704729</td>\n",
       "      <td>285.801319</td>\n",
       "      <td>123.749412</td>\n",
       "      <td>0.030945</td>\n",
       "      <td>0.121394</td>\n",
       "      <td>0.820635</td>\n",
       "      <td>141.772411</td>\n",
       "      <td>179.102100</td>\n",
       "      <td>121.066488</td>\n",
       "      <td>...</td>\n",
       "      <td>0.006834</td>\n",
       "      <td>0.002714</td>\n",
       "      <td>-0.002198</td>\n",
       "      <td>-0.002737</td>\n",
       "      <td>-0.004168</td>\n",
       "      <td>0.014789</td>\n",
       "      <td>-0.001058</td>\n",
       "      <td>-0.002857</td>\n",
       "      <td>-0.003919</td>\n",
       "      <td>-0.002395</td>\n",
       "    </tr>\n",
       "    <tr>\n",
       "      <th>1233</th>\n",
       "      <td>5.815927</td>\n",
       "      <td>283.812688</td>\n",
       "      <td>205.311350</td>\n",
       "      <td>2987.983312</td>\n",
       "      <td>0.018843</td>\n",
       "      <td>0.068054</td>\n",
       "      <td>0.460055</td>\n",
       "      <td>79.478803</td>\n",
       "      <td>100.406139</td>\n",
       "      <td>330.619248</td>\n",
       "      <td>...</td>\n",
       "      <td>0.006138</td>\n",
       "      <td>0.002438</td>\n",
       "      <td>-0.001933</td>\n",
       "      <td>-0.002407</td>\n",
       "      <td>-0.003666</td>\n",
       "      <td>0.013007</td>\n",
       "      <td>-0.002888</td>\n",
       "      <td>-0.007802</td>\n",
       "      <td>-0.010702</td>\n",
       "      <td>-0.006540</td>\n",
       "    </tr>\n",
       "    <tr>\n",
       "      <th>1256</th>\n",
       "      <td>1.249080</td>\n",
       "      <td>1.371307</td>\n",
       "      <td>0.721141</td>\n",
       "      <td>0.246969</td>\n",
       "      <td>846.018656</td>\n",
       "      <td>32.201731</td>\n",
       "      <td>4.140491</td>\n",
       "      <td>1.392382</td>\n",
       "      <td>1.118366</td>\n",
       "      <td>0.241615</td>\n",
       "      <td>...</td>\n",
       "      <td>0.027717</td>\n",
       "      <td>0.009137</td>\n",
       "      <td>-0.079318</td>\n",
       "      <td>-0.033894</td>\n",
       "      <td>-0.071878</td>\n",
       "      <td>1.008225</td>\n",
       "      <td>-0.005315</td>\n",
       "      <td>-0.005195</td>\n",
       "      <td>-0.007049</td>\n",
       "      <td>-0.009356</td>\n",
       "    </tr>\n",
       "  </tbody>\n",
       "</table>\n",
       "<p>5 rows × 68 columns</p>\n",
       "</div>"
      ],
      "text/plain": [
       "         1214        1230        1231         1233        1256       1257      \\\n",
       "1214  1019.285439   22.706772   25.505472     8.707495    0.426708   1.803812   \n",
       "1230    11.492826  766.658626  405.714804   193.021291    0.072208   0.134482   \n",
       "1231    10.374313  322.704729  285.801319   123.749412    0.030945   0.121394   \n",
       "1233     5.815927  283.812688  205.311350  2987.983312    0.018843   0.068054   \n",
       "1256     1.249080    1.371307    0.721141     0.246969  846.018656  32.201731   \n",
       "\n",
       "        1260        1261        1262        1263      ...  12700011  12700012  \\\n",
       "1214  125.387297  695.856038  104.337894    8.518713  ...  0.002258  0.000897   \n",
       "1230    0.909113  157.057692  198.412104  188.836531  ...  0.025146  0.009987   \n",
       "1231    0.820635  141.772411  179.102100  121.066488  ...  0.006834  0.002714   \n",
       "1233    0.460055   79.478803  100.406139  330.619248  ...  0.006138  0.002438   \n",
       "1256    4.140491    1.392382    1.118366    0.241615  ...  0.027717  0.009137   \n",
       "\n",
       "      12700013  12700014  12700015  12700016  12700017  12700018  12700019  \\\n",
       "1214 -0.005382 -0.000904 -0.006108  0.012009 -0.000522 -0.000201 -0.000276   \n",
       "1230 -0.008089 -0.010072 -0.015338  0.054421 -0.005809 -0.004456 -0.006112   \n",
       "1231 -0.002198 -0.002737 -0.004168  0.014789 -0.001058 -0.002857 -0.003919   \n",
       "1233 -0.001933 -0.002407 -0.003666  0.013007 -0.002888 -0.007802 -0.010702   \n",
       "1256 -0.079318 -0.033894 -0.071878  1.008225 -0.005315 -0.005195 -0.007049   \n",
       "\n",
       "      12700020  \n",
       "1214 -0.001185  \n",
       "1230 -0.013199  \n",
       "1231 -0.002395  \n",
       "1233 -0.006540  \n",
       "1256 -0.009356  \n",
       "\n",
       "[5 rows x 68 columns]"
      ]
     },
     "execution_count": 177,
     "metadata": {},
     "output_type": "execute_result"
    }
   ],
   "source": [
    "trips = pd.DataFrame(trips, columns=sams_distance_matrix.index, index=sams_distance_matrix.index)\n",
    "trips.head()"
   ]
  },
  {
   "cell_type": "code",
   "execution_count": 178,
   "metadata": {},
   "outputs": [
    {
     "data": {
      "text/plain": [
       "1674.9069312060233"
      ]
     },
     "execution_count": 178,
     "metadata": {},
     "output_type": "execute_result"
    }
   ],
   "source": [
    "trips.loc[12650000:12659999, 12650000:12659999].sum().sum()"
   ]
  },
  {
   "cell_type": "code",
   "execution_count": 179,
   "metadata": {},
   "outputs": [
    {
     "data": {
      "text/plain": [
       "8613.448997793937"
      ]
     },
     "execution_count": 179,
     "metadata": {},
     "output_type": "execute_result"
    }
   ],
   "source": [
    "trips.loc[12650000:12659999, :].sum().sum()"
   ]
  },
  {
   "cell_type": "code",
   "execution_count": 163,
   "metadata": {
    "scrolled": true
   },
   "outputs": [
    {
     "data": {
      "text/html": [
       "<div>\n",
       "<style scoped>\n",
       "    .dataframe tbody tr th:only-of-type {\n",
       "        vertical-align: middle;\n",
       "    }\n",
       "\n",
       "    .dataframe tbody tr th {\n",
       "        vertical-align: top;\n",
       "    }\n",
       "\n",
       "    .dataframe thead th {\n",
       "        text-align: right;\n",
       "    }\n",
       "</style>\n",
       "<table border=\"1\" class=\"dataframe\">\n",
       "  <thead>\n",
       "    <tr style=\"text-align: right;\">\n",
       "      <th></th>\n",
       "      <th>1280</th>\n",
       "      <th>1280</th>\n",
       "    </tr>\n",
       "  </thead>\n",
       "  <tbody>\n",
       "    <tr>\n",
       "      <th>1214</th>\n",
       "      <td>59281.024</td>\n",
       "      <td>95.478868</td>\n",
       "    </tr>\n",
       "    <tr>\n",
       "      <th>1230</th>\n",
       "      <td>17367.971</td>\n",
       "      <td>2996.925648</td>\n",
       "    </tr>\n",
       "    <tr>\n",
       "      <th>1231</th>\n",
       "      <td>10265.369</td>\n",
       "      <td>3512.843571</td>\n",
       "    </tr>\n",
       "    <tr>\n",
       "      <th>1233</th>\n",
       "      <td>24280.615</td>\n",
       "      <td>4320.486067</td>\n",
       "    </tr>\n",
       "    <tr>\n",
       "      <th>1256</th>\n",
       "      <td>114968.564</td>\n",
       "      <td>0.310372</td>\n",
       "    </tr>\n",
       "    <tr>\n",
       "      <th>...</th>\n",
       "      <td>...</td>\n",
       "      <td>...</td>\n",
       "    </tr>\n",
       "    <tr>\n",
       "      <th>12700016</th>\n",
       "      <td>90744.224</td>\n",
       "      <td>0.137345</td>\n",
       "    </tr>\n",
       "    <tr>\n",
       "      <th>12700017</th>\n",
       "      <td>84048.485</td>\n",
       "      <td>-0.018152</td>\n",
       "    </tr>\n",
       "    <tr>\n",
       "      <th>12700018</th>\n",
       "      <td>77347.315</td>\n",
       "      <td>-0.049037</td>\n",
       "    </tr>\n",
       "    <tr>\n",
       "      <th>12700019</th>\n",
       "      <td>71831.810</td>\n",
       "      <td>-0.067262</td>\n",
       "    </tr>\n",
       "    <tr>\n",
       "      <th>12700020</th>\n",
       "      <td>76153.351</td>\n",
       "      <td>-0.041106</td>\n",
       "    </tr>\n",
       "  </tbody>\n",
       "</table>\n",
       "<p>68 rows × 2 columns</p>\n",
       "</div>"
      ],
      "text/plain": [
       "                1280         1280\n",
       "1214       59281.024    95.478868\n",
       "1230       17367.971  2996.925648\n",
       "1231       10265.369  3512.843571\n",
       "1233       24280.615  4320.486067\n",
       "1256      114968.564     0.310372\n",
       "...              ...          ...\n",
       "12700016   90744.224     0.137345\n",
       "12700017   84048.485    -0.018152\n",
       "12700018   77347.315    -0.049037\n",
       "12700019   71831.810    -0.067262\n",
       "12700020   76153.351    -0.041106\n",
       "\n",
       "[68 rows x 2 columns]"
      ]
     },
     "execution_count": 163,
     "metadata": {},
     "output_type": "execute_result"
    }
   ],
   "source": [
    "pd.concat([sams_distance_matrix.loc[1280], trips.loc[1280]], axis=1)"
   ]
  },
  {
   "cell_type": "code",
   "execution_count": 172,
   "metadata": {},
   "outputs": [
    {
     "data": {
      "text/plain": [
       "1214         0\n",
       "1230        19\n",
       "1231         6\n",
       "1233         3\n",
       "1256         0\n",
       "            ..\n",
       "12700016     0\n",
       "12700017     0\n",
       "12700018     0\n",
       "12700019     0\n",
       "12700020     0\n",
       "Name: 12650008, Length: 68, dtype: int64"
      ]
     },
     "execution_count": 172,
     "metadata": {},
     "output_type": "execute_result"
    }
   ],
   "source": [
    "trips.loc[12650008].astype(int)"
   ]
  },
  {
   "cell_type": "code",
   "execution_count": null,
   "metadata": {},
   "outputs": [],
   "source": []
  },
  {
   "cell_type": "code",
   "execution_count": null,
   "metadata": {},
   "outputs": [],
   "source": []
  }
 ],
 "metadata": {
  "kernelspec": {
   "display_name": "Python 3",
   "language": "python",
   "name": "python3"
  },
  "language_info": {
   "codemirror_mode": {
    "name": "ipython",
    "version": 3
   },
   "file_extension": ".py",
   "mimetype": "text/x-python",
   "name": "python",
   "nbconvert_exporter": "python",
   "pygments_lexer": "ipython3",
   "version": "3.7.5"
  }
 },
 "nbformat": 4,
 "nbformat_minor": 2
}
