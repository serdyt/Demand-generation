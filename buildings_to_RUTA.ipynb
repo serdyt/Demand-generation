{
 "cells": [
  {
   "cell_type": "code",
   "execution_count": 5,
   "metadata": {},
   "outputs": [],
   "source": [
    "import geopandas\n",
    "import pandas as pd\n",
    "import numpy as np\n",
    "from gravity_utils import *"
   ]
  },
  {
   "cell_type": "code",
   "execution_count": 33,
   "metadata": {},
   "outputs": [],
   "source": [
    "def get_building_sams(buildings, zones):\n",
    "    i = 0\n",
    "    for zone_geom, index in zip(zones.geometry, zones.index):\n",
    "        in_sams = buildings.geometry.within(zone_geom) # pandas series of booleans. True if within.\n",
    "        buildings.loc[in_sams, 'zone'] = index\n",
    "#         print(i)\n",
    "        i = i + 1"
   ]
  },
  {
   "cell_type": "code",
   "execution_count": 7,
   "metadata": {},
   "outputs": [],
   "source": [
    "od_matrix = pd.read_csv('data/od_matrix.csv', sep=';', index_col=0)"
   ]
  },
  {
   "cell_type": "code",
   "execution_count": 8,
   "metadata": {},
   "outputs": [],
   "source": [
    "od_matrix.columns = od_matrix.columns.astype(int)"
   ]
  },
  {
   "cell_type": "code",
   "execution_count": 9,
   "metadata": {},
   "outputs": [],
   "source": [
    "zone = od_matrix.loc[12700005, :]"
   ]
  },
  {
   "cell_type": "code",
   "execution_count": 10,
   "metadata": {},
   "outputs": [],
   "source": [
    "b1_sams = geopandas.read_file('data/GIS/B1_samsSW_20131231_shp/B1_sw_region.shp')\n",
    "b1_sams = b1_sams.loc[(b1_sams.KOMMUN.astype(int) < 1300) & (b1_sams.KOMMUN.astype(int) >= 1200)]\n",
    "b1_sams = b1_sams.to_crs(epsg=4326)"
   ]
  },
  {
   "cell_type": "code",
   "execution_count": 11,
   "metadata": {},
   "outputs": [],
   "source": [
    "df = []\n",
    "for kommun in b1_sams.KOMMUN.unique():\n",
    "    df.append((kommun, b1_sams.set_index('KOMMUN').loc[kommun].unary_union))\n",
    "municipalities = geopandas.GeoDataFrame(df, columns=['municipality', 'geometry'])\n",
    "municipalities = municipalities.loc[(municipalities.municipality.astype(int) != 1265) & (municipalities.municipality.astype(int) != 1270)]\n",
    "municipalities = municipalities.set_index('municipality')\n",
    "municipalities['zone'] = np.NaN"
   ]
  },
  {
   "cell_type": "code",
   "execution_count": 12,
   "metadata": {},
   "outputs": [
    {
     "data": {
      "text/html": [
       "<div>\n",
       "<style scoped>\n",
       "    .dataframe tbody tr th:only-of-type {\n",
       "        vertical-align: middle;\n",
       "    }\n",
       "\n",
       "    .dataframe tbody tr th {\n",
       "        vertical-align: top;\n",
       "    }\n",
       "\n",
       "    .dataframe thead th {\n",
       "        text-align: right;\n",
       "    }\n",
       "</style>\n",
       "<table border=\"1\" class=\"dataframe\">\n",
       "  <thead>\n",
       "    <tr style=\"text-align: right;\">\n",
       "      <th></th>\n",
       "      <th>geometry</th>\n",
       "      <th>zone</th>\n",
       "    </tr>\n",
       "    <tr>\n",
       "      <th>municipality</th>\n",
       "      <th></th>\n",
       "      <th></th>\n",
       "    </tr>\n",
       "  </thead>\n",
       "  <tbody>\n",
       "    <tr>\n",
       "      <th>1280</th>\n",
       "      <td>POLYGON ((13.10703847278691 55.52965140966583,...</td>\n",
       "      <td>NaN</td>\n",
       "    </tr>\n",
       "    <tr>\n",
       "      <th>1233</th>\n",
       "      <td>POLYGON ((12.96815916315039 55.33841434999049,...</td>\n",
       "      <td>NaN</td>\n",
       "    </tr>\n",
       "    <tr>\n",
       "      <th>1283</th>\n",
       "      <td>POLYGON ((12.91409022440169 55.99192642553837,...</td>\n",
       "      <td>NaN</td>\n",
       "    </tr>\n",
       "    <tr>\n",
       "      <th>1282</th>\n",
       "      <td>POLYGON ((12.96068143061406 55.86083486092289,...</td>\n",
       "      <td>NaN</td>\n",
       "    </tr>\n",
       "    <tr>\n",
       "      <th>1284</th>\n",
       "      <td>POLYGON ((12.68175018721998 56.17075423403756,...</td>\n",
       "      <td>NaN</td>\n",
       "    </tr>\n",
       "  </tbody>\n",
       "</table>\n",
       "</div>"
      ],
      "text/plain": [
       "                                                       geometry  zone\n",
       "municipality                                                         \n",
       "1280          POLYGON ((13.10703847278691 55.52965140966583,...   NaN\n",
       "1233          POLYGON ((12.96815916315039 55.33841434999049,...   NaN\n",
       "1283          POLYGON ((12.91409022440169 55.99192642553837,...   NaN\n",
       "1282          POLYGON ((12.96068143061406 55.86083486092289,...   NaN\n",
       "1284          POLYGON ((12.68175018721998 56.17075423403756,...   NaN"
      ]
     },
     "execution_count": 12,
     "metadata": {},
     "output_type": "execute_result"
    }
   ],
   "source": [
    "municipalities.head()"
   ]
  },
  {
   "cell_type": "code",
   "execution_count": 13,
   "metadata": {},
   "outputs": [
    {
     "data": {
      "text/html": [
       "<div>\n",
       "<style scoped>\n",
       "    .dataframe tbody tr th:only-of-type {\n",
       "        vertical-align: middle;\n",
       "    }\n",
       "\n",
       "    .dataframe tbody tr th {\n",
       "        vertical-align: top;\n",
       "    }\n",
       "\n",
       "    .dataframe thead th {\n",
       "        text-align: right;\n",
       "    }\n",
       "</style>\n",
       "<table border=\"1\" class=\"dataframe\">\n",
       "  <thead>\n",
       "    <tr style=\"text-align: right;\">\n",
       "      <th></th>\n",
       "      <th>Rutstorl</th>\n",
       "      <th>Ruta</th>\n",
       "      <th>Offentliga</th>\n",
       "      <th>Naringsliv</th>\n",
       "      <th>Totalt</th>\n",
       "      <th>geometry</th>\n",
       "    </tr>\n",
       "  </thead>\n",
       "  <tbody>\n",
       "    <tr>\n",
       "      <th>0</th>\n",
       "      <td>None</td>\n",
       "      <td>3500006223750</td>\n",
       "      <td>3</td>\n",
       "      <td>0</td>\n",
       "      <td>3</td>\n",
       "      <td>POINT (12.58815058442633 56.13634879163538)</td>\n",
       "    </tr>\n",
       "    <tr>\n",
       "      <th>1</th>\n",
       "      <td>None</td>\n",
       "      <td>3497506225250</td>\n",
       "      <td>28</td>\n",
       "      <td>82</td>\n",
       "      <td>110</td>\n",
       "      <td>POINT (12.58328632274202 56.14973530004571)</td>\n",
       "    </tr>\n",
       "    <tr>\n",
       "      <th>2</th>\n",
       "      <td>None</td>\n",
       "      <td>3490006225500</td>\n",
       "      <td>11</td>\n",
       "      <td>30</td>\n",
       "      <td>41</td>\n",
       "      <td>POINT (12.57108336326716 56.15174288403292)</td>\n",
       "    </tr>\n",
       "    <tr>\n",
       "      <th>3</th>\n",
       "      <td>None</td>\n",
       "      <td>3490006225250</td>\n",
       "      <td>10</td>\n",
       "      <td>34</td>\n",
       "      <td>44</td>\n",
       "      <td>POINT (12.57122499527641 56.14949873024521)</td>\n",
       "    </tr>\n",
       "    <tr>\n",
       "      <th>4</th>\n",
       "      <td>None</td>\n",
       "      <td>3500006225000</td>\n",
       "      <td>20</td>\n",
       "      <td>50</td>\n",
       "      <td>70</td>\n",
       "      <td>POINT (12.58744750397297 56.14756971428457)</td>\n",
       "    </tr>\n",
       "  </tbody>\n",
       "</table>\n",
       "</div>"
      ],
      "text/plain": [
       "  Rutstorl           Ruta  Offentliga  Naringsliv  Totalt  \\\n",
       "0     None  3500006223750           3           0       3   \n",
       "1     None  3497506225250          28          82     110   \n",
       "2     None  3490006225500          11          30      41   \n",
       "3     None  3490006225250          10          34      44   \n",
       "4     None  3500006225000          20          50      70   \n",
       "\n",
       "                                      geometry  \n",
       "0  POINT (12.58815058442633 56.13634879163538)  \n",
       "1  POINT (12.58328632274202 56.14973530004571)  \n",
       "2  POINT (12.57108336326716 56.15174288403292)  \n",
       "3  POINT (12.57122499527641 56.14949873024521)  \n",
       "4  POINT (12.58744750397297 56.14756971428457)  "
      ]
     },
     "execution_count": 13,
     "metadata": {},
     "output_type": "execute_result"
    }
   ],
   "source": [
    "a2_ruta = geopandas.read_file('data/GIS/A2_ruta_2013/A2.shp')\n",
    "a2_ruta['geometry'] = a2_ruta.centroid\n",
    "get_building_sams(a2_ruta, municipalities)"
   ]
  },
  {
   "cell_type": "code",
   "execution_count": 31,
   "metadata": {},
   "outputs": [
    {
     "name": "stdout",
     "output_type": "stream",
     "text": [
      "0\n",
      "1\n",
      "2\n",
      "3\n",
      "4\n",
      "5\n",
      "6\n",
      "7\n",
      "8\n",
      "9\n",
      "10\n",
      "11\n",
      "12\n",
      "13\n",
      "14\n",
      "15\n",
      "16\n",
      "17\n",
      "18\n",
      "19\n",
      "20\n",
      "21\n",
      "22\n",
      "23\n",
      "24\n",
      "25\n",
      "26\n",
      "27\n",
      "28\n",
      "29\n",
      "30\n"
     ]
    }
   ],
   "source": [
    "a4_ruta = geopandas.read_file('data/GIS/A4_ruta_2013/A4.shp')\n",
    "a4_ruta['geometry'] = a4_ruta.centroid\n",
    "get_building_sams(a4_ruta, municipalities)"
   ]
  },
  {
   "cell_type": "code",
   "execution_count": 32,
   "metadata": {},
   "outputs": [
    {
     "name": "stdout",
     "output_type": "stream",
     "text": [
      "0\n",
      "1\n",
      "2\n",
      "3\n",
      "4\n",
      "5\n",
      "6\n",
      "7\n",
      "8\n",
      "9\n",
      "10\n",
      "11\n",
      "12\n",
      "13\n",
      "14\n",
      "15\n",
      "16\n",
      "17\n",
      "18\n",
      "19\n",
      "20\n",
      "21\n",
      "22\n",
      "23\n",
      "24\n",
      "25\n",
      "26\n",
      "27\n",
      "28\n",
      "29\n",
      "30\n",
      "31\n",
      "32\n",
      "33\n",
      "34\n",
      "35\n",
      "36\n",
      "0\n",
      "1\n",
      "2\n",
      "3\n",
      "4\n",
      "5\n",
      "6\n",
      "7\n",
      "8\n",
      "9\n",
      "10\n",
      "11\n",
      "12\n",
      "13\n",
      "14\n",
      "15\n",
      "16\n",
      "17\n",
      "18\n",
      "19\n",
      "20\n",
      "21\n",
      "22\n",
      "23\n",
      "24\n",
      "25\n",
      "26\n",
      "27\n",
      "28\n",
      "29\n",
      "30\n",
      "31\n",
      "32\n",
      "33\n",
      "34\n",
      "35\n",
      "36\n"
     ]
    }
   ],
   "source": [
    "sams_zones = b1_sams.loc[(b1_sams.KOMMUN.astype(int) == 1265) | (b1_sams.KOMMUN.astype(int) == 1270)]\n",
    "sams_zones = sams_zones.set_index('SAMSCODE')\n",
    "get_building_sams(a2_ruta, sams_zones)\n",
    "get_building_sams(a4_ruta, sams_zones)"
   ]
  },
  {
   "cell_type": "code",
   "execution_count": 34,
   "metadata": {},
   "outputs": [
    {
     "data": {
      "text/plain": [
       "NaN     6588\n",
       "1290    1850\n",
       "1293    1590\n",
       "1280    1058\n",
       "1283    1032\n",
       "Name: zone, dtype: int64"
      ]
     },
     "execution_count": 34,
     "metadata": {},
     "output_type": "execute_result"
    }
   ],
   "source": [
    "a2_ruta.zone.value_counts(dropna=False).head()"
   ]
  },
  {
   "cell_type": "code",
   "execution_count": 36,
   "metadata": {},
   "outputs": [
    {
     "data": {
      "text/plain": [
       "NaN     4620\n",
       "1290    1466\n",
       "1280    1279\n",
       "1293    1167\n",
       "1283    1074\n",
       "Name: zone, dtype: int64"
      ]
     },
     "execution_count": 36,
     "metadata": {},
     "output_type": "execute_result"
    }
   ],
   "source": [
    "a4_ruta.zone.value_counts(dropna=False).head()"
   ]
  },
  {
   "cell_type": "code",
   "execution_count": 38,
   "metadata": {},
   "outputs": [],
   "source": [
    "a2_ruta.dropna(axis=0, subset=['zone']).to_csv('data/GIS/a2_ruta_zone_codes.csv', sep=';')\n",
    "a4_ruta.dropna(axis=0, subset=['zone']).to_csv('data/GIS/a4_ruta_zone_codes.csv', sep=';')"
   ]
  },
  {
   "cell_type": "code",
   "execution_count": 39,
   "metadata": {},
   "outputs": [
    {
     "data": {
      "text/html": [
       "<div>\n",
       "<style scoped>\n",
       "    .dataframe tbody tr th:only-of-type {\n",
       "        vertical-align: middle;\n",
       "    }\n",
       "\n",
       "    .dataframe tbody tr th {\n",
       "        vertical-align: top;\n",
       "    }\n",
       "\n",
       "    .dataframe thead th {\n",
       "        text-align: right;\n",
       "    }\n",
       "</style>\n",
       "<table border=\"1\" class=\"dataframe\">\n",
       "  <thead>\n",
       "    <tr style=\"text-align: right;\">\n",
       "      <th></th>\n",
       "      <th>Rutstorl</th>\n",
       "      <th>Ruta</th>\n",
       "      <th>Offentliga</th>\n",
       "      <th>Naringsliv</th>\n",
       "      <th>Totalt</th>\n",
       "      <th>geometry</th>\n",
       "      <th>zone</th>\n",
       "    </tr>\n",
       "  </thead>\n",
       "  <tbody>\n",
       "    <tr>\n",
       "      <th>0</th>\n",
       "      <td>None</td>\n",
       "      <td>3500006223750</td>\n",
       "      <td>3</td>\n",
       "      <td>0</td>\n",
       "      <td>3</td>\n",
       "      <td>POINT (12.58815058442633 56.13634879163538)</td>\n",
       "      <td>1283</td>\n",
       "    </tr>\n",
       "    <tr>\n",
       "      <th>1</th>\n",
       "      <td>None</td>\n",
       "      <td>3497506225250</td>\n",
       "      <td>28</td>\n",
       "      <td>82</td>\n",
       "      <td>110</td>\n",
       "      <td>POINT (12.58328632274202 56.14973530004571)</td>\n",
       "      <td>1284</td>\n",
       "    </tr>\n",
       "    <tr>\n",
       "      <th>2</th>\n",
       "      <td>None</td>\n",
       "      <td>3490006225500</td>\n",
       "      <td>11</td>\n",
       "      <td>30</td>\n",
       "      <td>41</td>\n",
       "      <td>POINT (12.57108336326716 56.15174288403292)</td>\n",
       "      <td>1284</td>\n",
       "    </tr>\n",
       "    <tr>\n",
       "      <th>3</th>\n",
       "      <td>None</td>\n",
       "      <td>3490006225250</td>\n",
       "      <td>10</td>\n",
       "      <td>34</td>\n",
       "      <td>44</td>\n",
       "      <td>POINT (12.57122499527641 56.14949873024521)</td>\n",
       "      <td>1284</td>\n",
       "    </tr>\n",
       "    <tr>\n",
       "      <th>4</th>\n",
       "      <td>None</td>\n",
       "      <td>3500006225000</td>\n",
       "      <td>20</td>\n",
       "      <td>50</td>\n",
       "      <td>70</td>\n",
       "      <td>POINT (12.58744750397297 56.14756971428457)</td>\n",
       "      <td>1284</td>\n",
       "    </tr>\n",
       "  </tbody>\n",
       "</table>\n",
       "</div>"
      ],
      "text/plain": [
       "  Rutstorl           Ruta  Offentliga  Naringsliv  Totalt  \\\n",
       "0     None  3500006223750           3           0       3   \n",
       "1     None  3497506225250          28          82     110   \n",
       "2     None  3490006225500          11          30      41   \n",
       "3     None  3490006225250          10          34      44   \n",
       "4     None  3500006225000          20          50      70   \n",
       "\n",
       "                                      geometry  zone  \n",
       "0  POINT (12.58815058442633 56.13634879163538)  1283  \n",
       "1  POINT (12.58328632274202 56.14973530004571)  1284  \n",
       "2  POINT (12.57108336326716 56.15174288403292)  1284  \n",
       "3  POINT (12.57122499527641 56.14949873024521)  1284  \n",
       "4  POINT (12.58744750397297 56.14756971428457)  1284  "
      ]
     },
     "execution_count": 39,
     "metadata": {},
     "output_type": "execute_result"
    }
   ],
   "source": [
    "a2_ruta.head()"
   ]
  },
  {
   "cell_type": "code",
   "execution_count": null,
   "metadata": {},
   "outputs": [],
   "source": []
  }
 ],
 "metadata": {
  "kernelspec": {
   "display_name": "Python 3",
   "language": "python",
   "name": "python3"
  },
  "language_info": {
   "codemirror_mode": {
    "name": "ipython",
    "version": 3
   },
   "file_extension": ".py",
   "mimetype": "text/x-python",
   "name": "python",
   "nbconvert_exporter": "python",
   "pygments_lexer": "ipython3",
   "version": "3.7.6"
  }
 },
 "nbformat": 4,
 "nbformat_minor": 2
}
