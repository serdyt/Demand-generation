{
 "cells": [
  {
   "cell_type": "code",
   "execution_count": 2,
   "metadata": {},
   "outputs": [],
   "source": [
    "%matplotlib inline"
   ]
  },
  {
   "cell_type": "code",
   "execution_count": 3,
   "metadata": {},
   "outputs": [],
   "source": [
    "import geopandas\n",
    "import pandas as pd\n",
    "import matplotlib.pyplot as plt\n",
    "from IPython.display import Image\n",
    "import numpy as np"
   ]
  },
  {
   "cell_type": "code",
   "execution_count": 4,
   "metadata": {},
   "outputs": [],
   "source": [
    "#buildings = geopandas.read_file('data/GIS/buildings/buildings.shp')"
   ]
  },
  {
   "cell_type": "code",
   "execution_count": 5,
   "metadata": {},
   "outputs": [],
   "source": [
    "#pd.options.display.max_rows = 5\n",
    "#pd.set_option('max_columns', 55)\n",
    "#pd.set_option('max_colwidth', 50)\n",
    "#buildings.head()"
   ]
  },
  {
   "cell_type": "code",
   "execution_count": 6,
   "metadata": {},
   "outputs": [],
   "source": [
    "#c_buildings = buildings.set_geometry(buildings.centroid)"
   ]
  },
  {
   "cell_type": "code",
   "execution_count": 7,
   "metadata": {},
   "outputs": [
    {
     "name": "stderr",
     "output_type": "stream",
     "text": [
      "/home/ai6644/anaconda3/envs/jup/lib/python3.7/site-packages/pyproj/crs.py:77: FutureWarning: '+init=<authority>:<code>' syntax is deprecated. '<authority>:<code>' is the preferred initialization method.\n",
      "  return _prepare_from_string(\" \".join(pjargs))\n"
     ]
    }
   ],
   "source": [
    "b1_sams = geopandas.read_file('data/GIS/B1_samsSW_20131231_shp/B1_sw_region.shp')\n",
    "b1_sams = b1_sams.loc[(b1_sams.KOMMUN.astype(int) < 1300) & (b1_sams.KOMMUN.astype(int) >= 1200)]\n",
    "b1_sams = b1_sams.to_crs(epsg=4326)"
   ]
  },
  {
   "cell_type": "code",
   "execution_count": 8,
   "metadata": {},
   "outputs": [],
   "source": [
    "#sams_union = b1_sams.unary_union"
   ]
  },
  {
   "cell_type": "code",
   "execution_count": 9,
   "metadata": {},
   "outputs": [],
   "source": [
    "#c_buildings = c_buildings[c_buildings.within(sams_union)]"
   ]
  },
  {
   "cell_type": "code",
   "execution_count": 10,
   "metadata": {},
   "outputs": [],
   "source": [
    "#c_buildings.to_file('data/GIS/buildings/buildings_in_skane.shp')"
   ]
  },
  {
   "cell_type": "code",
   "execution_count": 11,
   "metadata": {},
   "outputs": [],
   "source": [
    "c_buildings = geopandas.read_file('data/GIS/buildings/buildings_in_skane.shp')"
   ]
  },
  {
   "cell_type": "code",
   "execution_count": 12,
   "metadata": {},
   "outputs": [
    {
     "data": {
      "text/html": [
       "<div>\n",
       "<style scoped>\n",
       "    .dataframe tbody tr th:only-of-type {\n",
       "        vertical-align: middle;\n",
       "    }\n",
       "\n",
       "    .dataframe tbody tr th {\n",
       "        vertical-align: top;\n",
       "    }\n",
       "\n",
       "    .dataframe thead th {\n",
       "        text-align: right;\n",
       "    }\n",
       "</style>\n",
       "<table border=\"1\" class=\"dataframe\">\n",
       "  <thead>\n",
       "    <tr style=\"text-align: right;\">\n",
       "      <th></th>\n",
       "      <th>OBJEKT_ID</th>\n",
       "      <th>OBJEKT_VER</th>\n",
       "      <th>DETALJTYP</th>\n",
       "      <th>ADAT</th>\n",
       "      <th>INSAM_LAGE</th>\n",
       "      <th>XYFEL</th>\n",
       "      <th>NAMN1</th>\n",
       "      <th>NAMN2</th>\n",
       "      <th>NAMN3</th>\n",
       "      <th>HUVUDBYGGN</th>\n",
       "      <th>...</th>\n",
       "      <th>ANDAMAL_2</th>\n",
       "      <th>ANDAMAL_3</th>\n",
       "      <th>ANDAMAL_4</th>\n",
       "      <th>ANDAMAL_5</th>\n",
       "      <th>ANDAMAL_6</th>\n",
       "      <th>ANDAMAL_7</th>\n",
       "      <th>ANDAMAL_8</th>\n",
       "      <th>ANDAMAL_9</th>\n",
       "      <th>ANDAMAL_10</th>\n",
       "      <th>geometry</th>\n",
       "    </tr>\n",
       "  </thead>\n",
       "  <tbody>\n",
       "    <tr>\n",
       "      <th>0</th>\n",
       "      <td>edd3c338-6f5c-4ccc-a86f-7c9e952a9251</td>\n",
       "      <td>4</td>\n",
       "      <td>HUS</td>\n",
       "      <td>2015-02-26 11:53</td>\n",
       "      <td>3</td>\n",
       "      <td>80</td>\n",
       "      <td>None</td>\n",
       "      <td>None</td>\n",
       "      <td>None</td>\n",
       "      <td>J</td>\n",
       "      <td>...</td>\n",
       "      <td>0</td>\n",
       "      <td>0</td>\n",
       "      <td>0</td>\n",
       "      <td>0</td>\n",
       "      <td>0</td>\n",
       "      <td>0</td>\n",
       "      <td>0</td>\n",
       "      <td>0</td>\n",
       "      <td>0</td>\n",
       "      <td>POINT (13.32785 55.43776)</td>\n",
       "    </tr>\n",
       "    <tr>\n",
       "      <th>1</th>\n",
       "      <td>1ecd5c91-ebb9-42a3-9479-bcfc7717f633</td>\n",
       "      <td>6</td>\n",
       "      <td>HUS</td>\n",
       "      <td>2015-08-05 08:53</td>\n",
       "      <td>3</td>\n",
       "      <td>800</td>\n",
       "      <td>None</td>\n",
       "      <td>None</td>\n",
       "      <td>None</td>\n",
       "      <td>None</td>\n",
       "      <td>...</td>\n",
       "      <td>0</td>\n",
       "      <td>0</td>\n",
       "      <td>0</td>\n",
       "      <td>0</td>\n",
       "      <td>0</td>\n",
       "      <td>0</td>\n",
       "      <td>0</td>\n",
       "      <td>0</td>\n",
       "      <td>0</td>\n",
       "      <td>POINT (13.32721 55.43788)</td>\n",
       "    </tr>\n",
       "    <tr>\n",
       "      <th>2</th>\n",
       "      <td>a68e9c61-24fe-4097-84f8-6c1b4db5e472</td>\n",
       "      <td>1</td>\n",
       "      <td>HUS</td>\n",
       "      <td>2017-03-07 14:02</td>\n",
       "      <td>1</td>\n",
       "      <td>25</td>\n",
       "      <td>None</td>\n",
       "      <td>None</td>\n",
       "      <td>None</td>\n",
       "      <td>None</td>\n",
       "      <td>...</td>\n",
       "      <td>0</td>\n",
       "      <td>0</td>\n",
       "      <td>0</td>\n",
       "      <td>0</td>\n",
       "      <td>0</td>\n",
       "      <td>0</td>\n",
       "      <td>0</td>\n",
       "      <td>0</td>\n",
       "      <td>0</td>\n",
       "      <td>POINT (12.81170 55.89962)</td>\n",
       "    </tr>\n",
       "    <tr>\n",
       "      <th>3</th>\n",
       "      <td>0f486161-9e02-47e3-90d5-e363f1dc1743</td>\n",
       "      <td>4</td>\n",
       "      <td>HUS</td>\n",
       "      <td>2017-05-18 08:42</td>\n",
       "      <td>1</td>\n",
       "      <td>100</td>\n",
       "      <td>None</td>\n",
       "      <td>None</td>\n",
       "      <td>None</td>\n",
       "      <td>None</td>\n",
       "      <td>...</td>\n",
       "      <td>0</td>\n",
       "      <td>0</td>\n",
       "      <td>0</td>\n",
       "      <td>0</td>\n",
       "      <td>0</td>\n",
       "      <td>0</td>\n",
       "      <td>0</td>\n",
       "      <td>0</td>\n",
       "      <td>0</td>\n",
       "      <td>POINT (13.60629 56.15547)</td>\n",
       "    </tr>\n",
       "    <tr>\n",
       "      <th>4</th>\n",
       "      <td>165d326f-4430-44d2-9263-2afb0b1a7e8b</td>\n",
       "      <td>1</td>\n",
       "      <td>HUS</td>\n",
       "      <td>2011-03-22 07:28</td>\n",
       "      <td>3</td>\n",
       "      <td>25</td>\n",
       "      <td>None</td>\n",
       "      <td>None</td>\n",
       "      <td>None</td>\n",
       "      <td>None</td>\n",
       "      <td>...</td>\n",
       "      <td>0</td>\n",
       "      <td>0</td>\n",
       "      <td>0</td>\n",
       "      <td>0</td>\n",
       "      <td>0</td>\n",
       "      <td>0</td>\n",
       "      <td>0</td>\n",
       "      <td>0</td>\n",
       "      <td>0</td>\n",
       "      <td>POINT (13.40628 55.59977)</td>\n",
       "    </tr>\n",
       "  </tbody>\n",
       "</table>\n",
       "<p>5 rows × 22 columns</p>\n",
       "</div>"
      ],
      "text/plain": [
       "                              OBJEKT_ID  OBJEKT_VER DETALJTYP  \\\n",
       "0  edd3c338-6f5c-4ccc-a86f-7c9e952a9251           4       HUS   \n",
       "1  1ecd5c91-ebb9-42a3-9479-bcfc7717f633           6       HUS   \n",
       "2  a68e9c61-24fe-4097-84f8-6c1b4db5e472           1       HUS   \n",
       "3  0f486161-9e02-47e3-90d5-e363f1dc1743           4       HUS   \n",
       "4  165d326f-4430-44d2-9263-2afb0b1a7e8b           1       HUS   \n",
       "\n",
       "               ADAT INSAM_LAGE  XYFEL NAMN1 NAMN2 NAMN3 HUVUDBYGGN  ...  \\\n",
       "0  2015-02-26 11:53          3     80  None  None  None          J  ...   \n",
       "1  2015-08-05 08:53          3    800  None  None  None       None  ...   \n",
       "2  2017-03-07 14:02          1     25  None  None  None       None  ...   \n",
       "3  2017-05-18 08:42          1    100  None  None  None       None  ...   \n",
       "4  2011-03-22 07:28          3     25  None  None  None       None  ...   \n",
       "\n",
       "   ANDAMAL_2 ANDAMAL_3  ANDAMAL_4  ANDAMAL_5  ANDAMAL_6  ANDAMAL_7  ANDAMAL_8  \\\n",
       "0          0         0          0          0          0          0          0   \n",
       "1          0         0          0          0          0          0          0   \n",
       "2          0         0          0          0          0          0          0   \n",
       "3          0         0          0          0          0          0          0   \n",
       "4          0         0          0          0          0          0          0   \n",
       "\n",
       "   ANDAMAL_9  ANDAMAL_10                   geometry  \n",
       "0          0           0  POINT (13.32785 55.43776)  \n",
       "1          0           0  POINT (13.32721 55.43788)  \n",
       "2          0           0  POINT (12.81170 55.89962)  \n",
       "3          0           0  POINT (13.60629 56.15547)  \n",
       "4          0           0  POINT (13.40628 55.59977)  \n",
       "\n",
       "[5 rows x 22 columns]"
      ]
     },
     "execution_count": 12,
     "metadata": {},
     "output_type": "execute_result"
    }
   ],
   "source": [
    "c_buildings.head()"
   ]
  },
  {
   "cell_type": "code",
   "execution_count": 13,
   "metadata": {},
   "outputs": [],
   "source": [
    "production_buildings = c_buildings[c_buildings.ANDAMAL_1 < 200]"
   ]
  },
  {
   "cell_type": "code",
   "execution_count": 14,
   "metadata": {},
   "outputs": [],
   "source": [
    "attraction_buildings = c_buildings[(c_buildings.ANDAMAL_1 >= 200) & (c_buildings.ANDAMAL_1 < 600)]"
   ]
  },
  {
   "cell_type": "code",
   "execution_count": 15,
   "metadata": {},
   "outputs": [],
   "source": [
    "mult_families_buildings = c_buildings[c_buildings.ANDAMAL_1 == 133]"
   ]
  },
  {
   "cell_type": "code",
   "execution_count": 16,
   "metadata": {},
   "outputs": [],
   "source": [
    "småhus = c_buildings[(c_buildings.ANDAMAL_1 >= 130) & (c_buildings.ANDAMAL_1 < 133)]"
   ]
  },
  {
   "cell_type": "code",
   "execution_count": 17,
   "metadata": {},
   "outputs": [],
   "source": [
    "flera_lagenheter = c_buildings[c_buildings.ANDAMAL_1 == 135]"
   ]
  },
  {
   "cell_type": "code",
   "execution_count": 18,
   "metadata": {},
   "outputs": [],
   "source": [
    "industri = attraction_buildings[attraction_buildings.ANDAMAL_1 < 300]"
   ]
  },
  {
   "cell_type": "code",
   "execution_count": 19,
   "metadata": {},
   "outputs": [],
   "source": [
    "ekonomi = attraction_buildings[attraction_buildings.ANDAMAL_1 == 399]"
   ]
  },
  {
   "cell_type": "code",
   "execution_count": 28,
   "metadata": {},
   "outputs": [],
   "source": [
    "sport = c_buildings[c_buildings.ANDAMAL_1.isin([301, 309, 316, 320, 324])]"
   ]
  },
  {
   "cell_type": "code",
   "execution_count": 29,
   "metadata": {},
   "outputs": [],
   "source": [
    "culture = c_buildings[c_buildings.ANDAMAL_1.isin([311, 313, 317, 324])]"
   ]
  },
  {
   "cell_type": "code",
   "execution_count": 30,
   "metadata": {},
   "outputs": [],
   "source": [
    "schools = c_buildings[c_buildings.ANDAMAL_1.isin([319])]"
   ]
  },
  {
   "cell_type": "code",
   "execution_count": 31,
   "metadata": {},
   "outputs": [],
   "source": [
    "universitets = c_buildings[c_buildings.ANDAMAL_1.isin([308, 321])]"
   ]
  },
  {
   "cell_type": "code",
   "execution_count": 32,
   "metadata": {},
   "outputs": [],
   "source": [
    "health = c_buildings[c_buildings.ANDAMAL_1.isin([307, 318])]"
   ]
  },
  {
   "cell_type": "code",
   "execution_count": 33,
   "metadata": {},
   "outputs": [],
   "source": [
    "public_other = c_buildings[c_buildings.ANDAMAL_1.isin([305, 314])]"
   ]
  },
  {
   "cell_type": "code",
   "execution_count": 34,
   "metadata": {},
   "outputs": [],
   "source": [
    "# add pipos data for shops"
   ]
  },
  {
   "cell_type": "code",
   "execution_count": 35,
   "metadata": {},
   "outputs": [],
   "source": [
    "def get_building_sams(buildings, sams):\n",
    "    tmp_build = buildings.copy(deep=False)\n",
    "    nbuild = []\n",
    "    for sams_geom in sams.geometry:\n",
    "        in_sams = tmp_build.geometry.within(sams_geom) # pandas series of booleans. True if within.\n",
    "        nbuild.append(in_sams.sum())\n",
    "        tmp_build = tmp_build[np.logical_not(in_sams)] # remove processed buildings\n",
    "    return nbuild"
   ]
  },
  {
   "cell_type": "code",
   "execution_count": 37,
   "metadata": {},
   "outputs": [],
   "source": [
    "appt_build = get_building_sams(mult_families_buildings, b1_sams)\n",
    "small_building = get_building_sams(småhus, b1_sams)\n",
    "multi_appartment_building = get_building_sams(flera_lagenheter, b1_sams)\n",
    "nProduction = get_building_sams(production_buildings, b1_sams)\n",
    "nAttraction = get_building_sams(attraction_buildings, b1_sams)\n",
    "nIndustri = get_building_sams(industri, b1_sams)\n",
    "nEkonomi = get_building_sams(ekonomi, b1_sams)\n",
    "nsport = get_building_sams(sport, b1_sams)\n",
    "nculture = get_building_sams(culture, b1_sams)\n",
    "nschools = get_building_sams(schools, b1_sams)\n",
    "nuniversitets = get_building_sams(universitets, b1_sams)\n",
    "nhealth = get_building_sams(health, b1_sams)\n",
    "npublic_other = get_building_sams(public_other, b1_sams)"
   ]
  },
  {
   "cell_type": "code",
   "execution_count": 39,
   "metadata": {},
   "outputs": [],
   "source": [
    "b1_sams_w_nbuildings = pd.concat([b1_sams.reset_index(drop=True), \n",
    "                                  pd.Series(nProduction, name='nProduction'), \n",
    "                                  pd.Series(nAttraction, name='nAttraction'),\n",
    "                                  pd.Series(appt_build, name='appt_build'),\n",
    "                                  pd.Series(multi_appartment_building, name='multi_appartment_building'),\n",
    "                                  pd.Series(small_building, name='small_building'),\n",
    "                                  pd.Series(nIndustri, name='nIndustri'),\n",
    "                                  pd.Series(nEkonomi, name='nsport'),\n",
    "                                  pd.Series(nEkonomi, name='nculture'),\n",
    "                                  pd.Series(nEkonomi, name='nschools'),\n",
    "                                  pd.Series(nEkonomi, name='nuniversitets'),\n",
    "                                  pd.Series(nEkonomi, name='nhealth'),\n",
    "                                  pd.Series(nEkonomi, name='npublic_other'),\n",
    "                                 ], axis=1, ignore_index=False)"
   ]
  },
  {
   "cell_type": "code",
   "execution_count": 40,
   "metadata": {},
   "outputs": [],
   "source": [
    "b1_sams_w_nbuildings.to_csv('data/GIS/B1_samsSW_20131231_shp/B1_sams_with_nbuildings_v2.csv', sep=\";\")"
   ]
  },
  {
   "cell_type": "code",
   "execution_count": null,
   "metadata": {},
   "outputs": [],
   "source": []
  }
 ],
 "metadata": {
  "kernelspec": {
   "display_name": "Python 3",
   "language": "python",
   "name": "python3"
  },
  "language_info": {
   "codemirror_mode": {
    "name": "ipython",
    "version": 3
   },
   "file_extension": ".py",
   "mimetype": "text/x-python",
   "name": "python",
   "nbconvert_exporter": "python",
   "pygments_lexer": "ipython3",
   "version": "3.7.6"
  }
 },
 "nbformat": 4,
 "nbformat_minor": 2
}
